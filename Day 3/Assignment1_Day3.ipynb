{
  "nbformat": 4,
  "nbformat_minor": 0,
  "metadata": {
    "colab": {
      "name": "Assignment1_Day3.ipynb",
      "provenance": [],
      "collapsed_sections": [
        "4fIDAB8Bc2om",
        "4U8onElQeewC",
        "V-eVFPkVhgoC",
        "ioqNTe3GiwPD",
        "ugbleem8jNxq",
        "kSutEzj1lAIn"
      ]
    },
    "kernelspec": {
      "name": "python3",
      "display_name": "Python 3"
    }
  },
  "cells": [
    {
      "cell_type": "markdown",
      "metadata": {
        "id": "4fIDAB8Bc2om",
        "colab_type": "text"
      },
      "source": [
        "### **Question 1 :**\n",
        "Write a program to subtract two complex numbers in Python."
      ]
    },
    {
      "cell_type": "markdown",
      "metadata": {
        "id": "fu5cIxEgdLn3",
        "colab_type": "text"
      },
      "source": [
        "**Solution 1 :**\n",
        "By doing subtraction and printing the output using print function"
      ]
    },
    {
      "cell_type": "code",
      "metadata": {
        "id": "TvfaWAXLdYYU",
        "colab_type": "code",
        "colab": {
          "base_uri": "https://localhost:8080/",
          "height": 34
        },
        "outputId": "2ab94156-cc1d-4bca-93ec-d7d49782dddd"
      },
      "source": [
        "print(\"Subtraction of two complex numbers yields: \", (4+3j)-(3-7j))"
      ],
      "execution_count": null,
      "outputs": [
        {
          "output_type": "stream",
          "text": [
            "Subtraction of two complex numbers yields:  (1+10j)\n"
          ],
          "name": "stdout"
        }
      ]
    },
    {
      "cell_type": "markdown",
      "metadata": {
        "id": "vGSoL-KedpDd",
        "colab_type": "text"
      },
      "source": [
        "**Solution 2:**\n",
        "By using string formating option"
      ]
    },
    {
      "cell_type": "code",
      "metadata": {
        "id": "ptJS1DPxd2DT",
        "colab_type": "code",
        "colab": {
          "base_uri": "https://localhost:8080/",
          "height": 34
        },
        "outputId": "c9101b07-4b7c-45b1-97f6-11baa47aafe0"
      },
      "source": [
        "a = 5-3j\n",
        "b = 6+5j\n",
        "c = a-b\n",
        "print(\"Subtraction of two complex numbers {} and {} is: {}\".format(a,b,c))"
      ],
      "execution_count": null,
      "outputs": [
        {
          "output_type": "stream",
          "text": [
            "Subtraction of two complex numbers (5-3j) and (6+5j) is: (-1-8j)\n"
          ],
          "name": "stdout"
        }
      ]
    },
    {
      "cell_type": "markdown",
      "metadata": {
        "id": "4U8onElQeewC",
        "colab_type": "text"
      },
      "source": [
        "### **Question 2 :**\n",
        "Write a program to find the fourth root of a number"
      ]
    },
    {
      "cell_type": "markdown",
      "metadata": {
        "id": "k5LffG6DetO_",
        "colab_type": "text"
      },
      "source": [
        "**Solution 1:**\n",
        "Using normal print function"
      ]
    },
    {
      "cell_type": "code",
      "metadata": {
        "id": "4hP1CiUZfxKW",
        "colab_type": "code",
        "colab": {
          "base_uri": "https://localhost:8080/",
          "height": 51
        },
        "outputId": "a83004bf-d78f-46d6-9150-02edefc6d0f6"
      },
      "source": [
        "print(\"4th root of 256 is: \", 256**(0.25))\n",
        "print(\"4th root of 512 is: \", 512**(0.25))"
      ],
      "execution_count": null,
      "outputs": [
        {
          "output_type": "stream",
          "text": [
            "4th root of 256 is:  4.0\n",
            "4th root of 512 is:  4.756828460010884\n"
          ],
          "name": "stdout"
        }
      ]
    },
    {
      "cell_type": "markdown",
      "metadata": {
        "id": "y32eS9r7gz1N",
        "colab_type": "text"
      },
      "source": [
        "**Solution 2:**\n",
        "Using python's in-built power function\n"
      ]
    },
    {
      "cell_type": "code",
      "metadata": {
        "id": "L9Ja4UX-hNDo",
        "colab_type": "code",
        "colab": {
          "base_uri": "https://localhost:8080/",
          "height": 34
        },
        "outputId": "5e86c354-239a-4ab5-8cf0-a2959c782a48"
      },
      "source": [
        "x = pow(4096, 0.25)\n",
        "print(\"4th power of 4096 is: \", x)"
      ],
      "execution_count": null,
      "outputs": [
        {
          "output_type": "stream",
          "text": [
            "4th power of 4096 is:  8.0\n"
          ],
          "name": "stdout"
        }
      ]
    },
    {
      "cell_type": "markdown",
      "metadata": {
        "id": "V-eVFPkVhgoC",
        "colab_type": "text"
      },
      "source": [
        "### **Question 3:**\n",
        "Write a program to swap two numbers in Python with the help of a temporary variable."
      ]
    },
    {
      "cell_type": "code",
      "metadata": {
        "id": "_2o1DmOyhwSg",
        "colab_type": "code",
        "colab": {
          "base_uri": "https://localhost:8080/",
          "height": 51
        },
        "outputId": "71599155-ffbb-4528-a15a-fc768597a3db"
      },
      "source": [
        "#Define two variables\n",
        "x=4\n",
        "y=5\n",
        "\n",
        "#print output before values swapped\n",
        "print(\"Before swapping: \", x,y)\n",
        "\n",
        "\n",
        "#Define a thrid variable and assign the x value to this temp variable\n",
        "temp = x\n",
        "#assign y value to x\n",
        "x = y\n",
        "#assign temp value to y\n",
        "y = temp\n",
        "\n",
        "#print output after values swapped:\n",
        "print(\"After swapping: \", x,y)"
      ],
      "execution_count": null,
      "outputs": [
        {
          "output_type": "stream",
          "text": [
            "Before swapping:  4 5\n",
            "After swapping:  5 4\n"
          ],
          "name": "stdout"
        }
      ]
    },
    {
      "cell_type": "markdown",
      "metadata": {
        "id": "ioqNTe3GiwPD",
        "colab_type": "text"
      },
      "source": [
        "### **Question 4:**\n",
        "Write a program to swap two numbers in Python without using a temporary variable."
      ]
    },
    {
      "cell_type": "code",
      "metadata": {
        "id": "OOmKZnWUizq5",
        "colab_type": "code",
        "colab": {
          "base_uri": "https://localhost:8080/",
          "height": 51
        },
        "outputId": "1f01c4bc-ec83-4500-fdfb-3b70ebb7fad0"
      },
      "source": [
        "#Define two variables\n",
        "x=5\n",
        "y=10\n",
        "\n",
        "#print output before values swapped\n",
        "print(\"Before swapping: \", x,y)\n",
        "\n",
        "#Swap without using thrid variable\n",
        "x,y = y,x\n",
        "\n",
        "#print after values are swapped\n",
        "print(\"After swapping: \", x,y)"
      ],
      "execution_count": null,
      "outputs": [
        {
          "output_type": "stream",
          "text": [
            "Before swapping:  5 10\n",
            "After swapping:  10 5\n"
          ],
          "name": "stdout"
        }
      ]
    },
    {
      "cell_type": "markdown",
      "metadata": {
        "id": "ugbleem8jNxq",
        "colab_type": "text"
      },
      "source": [
        "### **Question 5:**\n",
        "Write a program to convert fahrenheit to kelvin and celsius both"
      ]
    },
    {
      "cell_type": "code",
      "metadata": {
        "id": "vsRaCEvijSOC",
        "colab_type": "code",
        "colab": {
          "base_uri": "https://localhost:8080/",
          "height": 34
        },
        "outputId": "4a143a0d-c7d6-4369-fff0-6ac4e55ad5cc"
      },
      "source": [
        "#Define a variable called degF\n",
        "degF = 56.58\n",
        "\n",
        "#Using formula to convert the farenheit temperature to Kelvin temperature and assigning the output to variable called degK\n",
        "degK = 273.5 + ((degF - 32.0) * (5.0/9.0))\n",
        "\n",
        "#Using formula to convert farenheit temperature to Celsius temperature and assigning the output to variable called degC\n",
        "degC = 0.56 * ((degF - 32))\n",
        "\n",
        "#Printing the outputs as required\n",
        "\n",
        "print(degF, \"degress F is \", round(degK,2), \"in Kelvin and \", round(degC,2), \"in Celsius\")"
      ],
      "execution_count": null,
      "outputs": [
        {
          "output_type": "stream",
          "text": [
            "56.58 degress F is  287.16 in Kelvin and  13.76 in Celsius\n"
          ],
          "name": "stdout"
        }
      ]
    },
    {
      "cell_type": "markdown",
      "metadata": {
        "id": "kSutEzj1lAIn",
        "colab_type": "text"
      },
      "source": [
        "### **Question 6:**\n",
        "Write a program to demonstrate all the available data types in Python. Hint: Use type() function.\n"
      ]
    },
    {
      "cell_type": "code",
      "metadata": {
        "id": "VJx3pq4YlGj9",
        "colab_type": "code",
        "colab": {
          "base_uri": "https://localhost:8080/",
          "height": 119
        },
        "outputId": "55d218b0-a50a-4f6a-f0d0-27d97b3a903e"
      },
      "source": [
        "#There are 7 built-in data types in python\n",
        "\n",
        "#Text Data type in python\n",
        "word = \"Arnold Schwardzagger\"\n",
        "print(type(word))\n",
        "\n",
        "#Numeric Data type in python\n",
        "\n",
        "#1. Integers\n",
        "x = 5\n",
        "print(type(x))\n",
        "\n",
        "#2. Floating numbers\n",
        "y = 45.568\n",
        "print(type(y))\n",
        "\n",
        "#3. Complex numbers\n",
        "z = 5+3j\n",
        "print(type(z))\n",
        "\n",
        "#Boolean data type in python\n",
        "k = True\n",
        "j = False\n",
        "print(type(k))\n",
        "print(type(j))\n",
        "\n",
        "#Sequence Data type\n",
        "#Mapping data type\n",
        "#Set data type\n",
        "#Binary data type\n",
        "\n"
      ],
      "execution_count": null,
      "outputs": [
        {
          "output_type": "stream",
          "text": [
            "<class 'str'>\n",
            "<class 'int'>\n",
            "<class 'float'>\n",
            "<class 'complex'>\n",
            "<class 'bool'>\n",
            "<class 'bool'>\n"
          ],
          "name": "stdout"
        }
      ]
    },
    {
      "cell_type": "markdown",
      "metadata": {
        "id": "QQ013YyElQz0",
        "colab_type": "text"
      },
      "source": [
        "## **Question 7:**  <br>\n",
        "Create a Markdown cell in jupyter and list the steps discussed in the session by Dr. Darshan Ingle sir to create Github profile and upload Githubs Assignment link."
      ]
    },
    {
      "cell_type": "markdown",
      "metadata": {
        "id": "7Cou4NZslkj6",
        "colab_type": "text"
      },
      "source": [
        "### **How to create a Github profile**\n",
        "\n",
        "\n",
        "\n",
        "* Step 1: Open Google and type Github.   \n",
        "* Step 2: Click on https://github.com/\n",
        "* Step 3: Navigate to Sign up.\n",
        "* Step 4: Fill the required details marked under red asterisk and click on    Create Account.\n",
        "* Step 5: Email along with verification email link will be sent once successful creation of account.\n",
        "* Step 6: Follow the link and get verified.\n",
        "* Step 7: Close the tab and load the url again.\n",
        "* Step 8: Enter the credentials and click on login.\n",
        "\n",
        "\n",
        "\n",
        "\n",
        "\n",
        "\n",
        "\n",
        "\n",
        "\n",
        "\n",
        "\n",
        "\n",
        "\n"
      ]
    },
    {
      "cell_type": "markdown",
      "metadata": {
        "id": "VCtZGzeAmcPv",
        "colab_type": "text"
      },
      "source": [
        "### **How to upload github assignments link**  <br>\n",
        "\n",
        "* Step 1: Create a folder with name as current day in your local machine\n",
        "* Step 2: Copy all the ipynb and other assignment related files into the above created folder\n",
        "* Step 3: Open Google > Load Github > Login with your credentials\n",
        "* Step 4: On top left corner, there will be an option called Create Repository. Click on that option\n",
        "*  Step 5: Provide repository name as LetsUpgrade AI-ML and scroll down\n",
        "*  Step 6: Provide the description as Assignments and upload your folder created in your local machine\n",
        "*   Step 7: Keep the view as Public and proceed further\n",
        "*   Step 8: Click on Create Repository\n",
        "*   Step 9: Click on upload an existing file link located under Quick setup — if you’ve done this kind of thing before section.\n",
        "*   Step 10: Drag and drop your assignment folder which was created in your local machine and click on Commit changes\n",
        "*   Step 11: Copy the github assignment URL and save it in notepad\n",
        "*   Step 12: Click on submission form shared in LetsUpgrade Community group. You can also find the links under links section of the current day's class streamed video in LMS portal. \n",
        "*   Step 13: Fill the mandatory fields like, email, Phone nummber and select the day of the assignment which you want to submit\n",
        "*   Step 14: Copy-paste the github assignment url and click on submit\n",
        "*   Step 15: A copy of submitted form will be emailed to your registered email address and your submission response will be recorded.\n",
        "\n",
        "\n",
        "\n",
        "\n",
        "\n",
        "\n",
        "\n",
        "\n",
        "\n",
        "\n",
        "\n",
        "\n",
        "\n",
        "\n",
        "\n"
      ]
    },
    {
      "cell_type": "code",
      "metadata": {
        "id": "CA9asV1HnhP_",
        "colab_type": "code",
        "colab": {}
      },
      "source": [
        ""
      ],
      "execution_count": null,
      "outputs": []
    }
  ]
}
{
 "cells": [
  {
   "cell_type": "markdown",
   "metadata": {},
   "source": [
    "**Question 7**\n",
    "Create a Markdown cell in jupyter and list the steps discussed in the session by Dr. Darshan\n",
    "Ingle sir to create Github profile and upload Githubs Assignment link."
   ]
  },
  {
   "cell_type": "markdown",
   "metadata": {},
   "source": [
    "### How to create a Github profile<br><br>\n",
    "\n",
    "Step 1: Open Google and type Github<br>\n",
    "Step 2: Click on https://github.com/<br>\n",
    "Step 3: Navigate to Sign up<br>\n",
    "Step 4: Fill the required details marked under red asterisk and click on Create Account<br>\n",
    "Step 5: Email along with verification email link will be sent once successful creation of account<br>\n",
    "Step 6: Follow the link and get verified<br>\n",
    "Step 7: Close the tab and load the url again<br>\n",
    "Step 8: Enter the credentials and click on login<br>"
   ]
  },
  {
   "cell_type": "markdown",
   "metadata": {},
   "source": [
    "### How to upload github assignments link<br><br>\n",
    "\n",
    "Step 1: Create a folder with name as current day in your local machine<br>\n",
    "Step 2: Copy all the ipynb and other assignment related files into the above created folder<br>\n",
    "Step 3: Open Google > Load Github > Login with your credentials<br>\n",
    "Step 4: On top left corner, there will be an option called **Create Repository**. Click on that option<br>\n",
    "Step 5: Provide repository name as **LetsUpgrade AI-ML** and scroll down<br>\n",
    "Step 6: Provide the description as **Assignments** and upload your folder created in your local machine<br>\n",
    "Step 7: Keep the view as **Public** and proceed further<br>\n",
    "Step 7: Click on Create Repository<br>\n",
    "Step 8: Click on **upload an existing file** link located under **Quick setup — if you’ve done this kind of thing before** section.<br>\n",
    "Step 9: Drag and drop your assignment folder which was created in your local machine and click on **Commit changes**<br>\n",
    "Step 10: Copy the URL and save it in notepad<br>\n",
    "Step 11: Click on submission form shared by LetsUpgrade team<br>\n",
    "Step 12: Fill the mandatory fields and give the github url which you just copied and saved in your notepad<br>\n",
    "Step 13: Click on submit<br>"
   ]
  },
  {
   "cell_type": "code",
   "execution_count": null,
   "metadata": {},
   "outputs": [],
   "source": []
  }
 ],
 "metadata": {
  "kernelspec": {
   "display_name": "Python 3",
   "language": "python",
   "name": "python3"
  },
  "language_info": {
   "codemirror_mode": {
    "name": "ipython",
    "version": 3
   },
   "file_extension": ".py",
   "mimetype": "text/x-python",
   "name": "python",
   "nbconvert_exporter": "python",
   "pygments_lexer": "ipython3",
   "version": "3.6.10"
  }
 },
 "nbformat": 4,
 "nbformat_minor": 4
}

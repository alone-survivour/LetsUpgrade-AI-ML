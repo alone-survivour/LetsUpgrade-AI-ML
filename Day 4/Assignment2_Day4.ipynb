{
  "nbformat": 4,
  "nbformat_minor": 0,
  "metadata": {
    "colab": {
      "name": "Assignment2_Day4.ipynb",
      "provenance": [],
      "collapsed_sections": [
        "XxSN9oSTaNJl",
        "DzdZOr4jmobX",
        "7CIi8F6VyO52",
        "kT7fBW6a0i8p",
        "-SFFF8KB2SNr"
      ]
    },
    "kernelspec": {
      "name": "python3",
      "display_name": "Python 3"
    }
  },
  "cells": [
    {
      "cell_type": "markdown",
      "metadata": {
        "id": "XxSN9oSTaNJl",
        "colab_type": "text"
      },
      "source": [
        "## **Question 1:**\n",
        "Research on whether addition, subtraction, multiplication, division, floor division and modulo\n",
        "operations be performed on complex numbers. Based on your study, implement a Python\n",
        "program to demonstrate these operations."
      ]
    },
    {
      "cell_type": "markdown",
      "metadata": {
        "id": "72rzdySsahQD",
        "colab_type": "text"
      },
      "source": [
        "**Addition operation on complex numbers** <br>\n",
        "In Python, complex numbers can be added using + operator"
      ]
    },
    {
      "cell_type": "code",
      "metadata": {
        "id": "iRI0d1NzanKf",
        "colab_type": "code",
        "colab": {
          "base_uri": "https://localhost:8080/",
          "height": 52
        },
        "outputId": "1b7e61a4-eb5c-4ace-fb3a-c2d224aea001"
      },
      "source": [
        "#Method 1: Direct Method\n",
        "#Initialize two complex numbers\n",
        "z1 = 4+6j\n",
        "z2 = 5-8j\n",
        "\n",
        "#Performing addition and assigning the value to output variable z3\n",
        "z3 = z1 + z2\n",
        "#print the output using print function\n",
        "print(\"Addition of \", z1, \"and \", z2, \"gives: \", z3)\n",
        "\n",
        "#Method 2: Using complex function\n",
        "#Assign values to four different variables x1,y1,x2 and y2\n",
        "x1 = 5.6\n",
        "x2 = 6.8\n",
        "y1 = 5\n",
        "y2 = -7\n",
        "\n",
        "z1 = complex(x1,y1)\n",
        "z2 = complex(x2,y2)\n",
        "z3 = z1 + z2        #Using complex function, define complex variables z1 and z2 and perform addition. Assign that output to variable z3\n",
        "\n",
        "print(\"Addition of \", z1, \"and \", z2, \"gives: \", z3)"
      ],
      "execution_count": null,
      "outputs": [
        {
          "output_type": "stream",
          "text": [
            "Addition of  (4+6j) and  (5-8j) gives:  (9-2j)\n",
            "Addition of  (5.6+5j) and  (6.8-7j) gives:  (12.399999999999999-2j)\n"
          ],
          "name": "stdout"
        }
      ]
    },
    {
      "cell_type": "markdown",
      "metadata": {
        "id": "vd4q_nvTcAnP",
        "colab_type": "text"
      },
      "source": [
        "**Subtraction of complex numbers:** <br>\n",
        "Complex numbers in Python can be subtracted using - operator"
      ]
    },
    {
      "cell_type": "code",
      "metadata": {
        "id": "XzYqK2UDcE-s",
        "colab_type": "code",
        "colab": {
          "base_uri": "https://localhost:8080/",
          "height": 52
        },
        "outputId": "30a2b5c3-b17e-42a5-8956-856f0a6a73d3"
      },
      "source": [
        "#Method 1: Using direct method\n",
        "#Initialize two complex numbers\n",
        "z1 = 7-8j\n",
        "z2 = 3.5-8.7j       \n",
        "\n",
        "#Performing subtraction and assigning the value to output variable z3\n",
        "z3 = z1 - z2        \n",
        "\n",
        "#print the output using print function\n",
        "print(\"Subtraction of \", z1, \"and \", z2, \"gives: \", z3)   \n",
        "\n",
        "\n",
        "#Method 2: Using inbuilt complex function\n",
        "#Assign values to four different variables x1,y1,x2 and y2\n",
        "\n",
        "x1 = 7.6\n",
        "x2 = -8.8\n",
        "y1 = 5\n",
        "y2 = 70.56      \n",
        "\n",
        "#Using complex function, define complex variables z1 and z2 and perform Subtraction. Assign that output to variable z3\n",
        "z1 = complex(x1,y1)\n",
        "z2 = complex(x2,y2)\n",
        "z3 = z1 - z2          \n",
        "\n",
        "\n",
        "#print the output\n",
        "print(\"Subtraction of \", z1, \"and \", z2, \"gives: \", z3)"
      ],
      "execution_count": null,
      "outputs": [
        {
          "output_type": "stream",
          "text": [
            "Subtraction of  (7-8j) and  (3.5-8.7j) gives:  (3.5+0.6999999999999993j)\n",
            "Subtraction of  (7.6+5j) and  (-8.8+70.56j) gives:  (16.4-65.56j)\n"
          ],
          "name": "stdout"
        }
      ]
    },
    {
      "cell_type": "markdown",
      "metadata": {
        "id": "AHas-zghfEmt",
        "colab_type": "text"
      },
      "source": [
        "**Multiplication of complex number:** <br>\n",
        "In Python complex numbers can be multiplied using * operator"
      ]
    },
    {
      "cell_type": "code",
      "metadata": {
        "id": "ZOsf8JDhfMrb",
        "colab_type": "code",
        "colab": {
          "base_uri": "https://localhost:8080/",
          "height": 52
        },
        "outputId": "5841b929-6f92-42c4-91ec-ff1072321609"
      },
      "source": [
        "#Method 1: Direct method\n",
        "#Initialize two complex numbers\n",
        "z1 = 7-8j\n",
        "z2 = 3.5-8.7j       \n",
        "\n",
        "#Performing multiplication and assigning the value to output variable z3\n",
        "z3 = z1 * z2        \n",
        "\n",
        "#print the output using print function\n",
        "print(\"Multiplication of \", z1, \"and \", z2, \"gives: \", z3)\n",
        "\n",
        "\n",
        "#Method 2: Using Complex function\n",
        "#Assign values to four different variables x1,y1,x2 and y2\n",
        "\n",
        "x1 = 7.6\n",
        "x2 = -8.8\n",
        "y1 = 5\n",
        "y2 = 70.56      \n",
        "\n",
        "#Using complex function, define complex variables z1 and z2 and perform addition. Assign that output to variable z3\n",
        "z1 = complex(x1,y1)\n",
        "z2 = complex(x2,y2)\n",
        "z3 = z1 * z2          \n",
        "\n",
        "\n",
        "#print the output\n",
        "print(\"Multiplication of \", z1, \"and \", z2, \"gives: \", z3)\n"
      ],
      "execution_count": null,
      "outputs": [
        {
          "output_type": "stream",
          "text": [
            "Multiplication of  (7-8j) and  (3.5-8.7j) gives:  (-45.099999999999994-88.89999999999999j)\n",
            "Multiplication of  (7.6+5j) and  (-8.8+70.56j) gives:  (-419.68+492.256j)\n"
          ],
          "name": "stdout"
        }
      ]
    },
    {
      "cell_type": "markdown",
      "metadata": {
        "id": "9nIvgndmfx2m",
        "colab_type": "text"
      },
      "source": [
        "**Division of complex number** <br>\n",
        "In Python, complex numbers can be divided using the / operator."
      ]
    },
    {
      "cell_type": "code",
      "metadata": {
        "id": "p-SMb6lgf4f-",
        "colab_type": "code",
        "colab": {
          "base_uri": "https://localhost:8080/",
          "height": 34
        },
        "outputId": "9fc44b44-c5e2-4ec7-957e-10912eca2b4e"
      },
      "source": [
        "#Method 1: Direct method\n",
        "#Initialize two complex numbers\n",
        "z1 = 7-8j\n",
        "z2 = 3.5-8.7j       \n",
        "\n",
        "#Performing normal divisions and assigning the value to output variable z3, z4 and z5\n",
        "z3 = z1 / z2\n",
        "    \n",
        "\n",
        "#print the output using print function\n",
        "print(\"Normal Division of \", z1, \"and \", z2, \"gives: \", z3)\n",
        "\n"
      ],
      "execution_count": null,
      "outputs": [
        {
          "output_type": "stream",
          "text": [
            "Normal Division of  (7-8j) and  (3.5-8.7j) gives:  (1.070047759836252+0.374118717307255j)\n"
          ],
          "name": "stdout"
        }
      ]
    },
    {
      "cell_type": "markdown",
      "metadata": {
        "id": "zt7imG1Lg0qw",
        "colab_type": "text"
      },
      "source": [
        "**Modulo division of above case**"
      ]
    },
    {
      "cell_type": "code",
      "metadata": {
        "id": "NqZqeLyJg5wf",
        "colab_type": "code",
        "colab": {
          "base_uri": "https://localhost:8080/",
          "height": 203
        },
        "outputId": "680e9311-81fe-409f-cb3a-da6527d92f85"
      },
      "source": [
        "#Performing the modulo divisons and assigning outputs to variables z4\n",
        "z4 = z1 % z2\n",
        "print(z4)"
      ],
      "execution_count": null,
      "outputs": [
        {
          "output_type": "error",
          "ename": "TypeError",
          "evalue": "ignored",
          "traceback": [
            "\u001b[0;31m---------------------------------------------------------------------------\u001b[0m",
            "\u001b[0;31mTypeError\u001b[0m                                 Traceback (most recent call last)",
            "\u001b[0;32m<ipython-input-17-c337845632fd>\u001b[0m in \u001b[0;36m<module>\u001b[0;34m()\u001b[0m\n\u001b[1;32m      1\u001b[0m \u001b[0;31m#Performing the floor and modulo divisons and assigning outputs to variables z4 and z5\u001b[0m\u001b[0;34m\u001b[0m\u001b[0;34m\u001b[0m\u001b[0;34m\u001b[0m\u001b[0m\n\u001b[0;32m----> 2\u001b[0;31m \u001b[0mz4\u001b[0m \u001b[0;34m=\u001b[0m \u001b[0mz1\u001b[0m \u001b[0;34m%\u001b[0m \u001b[0mz2\u001b[0m\u001b[0;34m\u001b[0m\u001b[0;34m\u001b[0m\u001b[0m\n\u001b[0m\u001b[1;32m      3\u001b[0m \u001b[0mprint\u001b[0m\u001b[0;34m(\u001b[0m\u001b[0mz4\u001b[0m\u001b[0;34m)\u001b[0m\u001b[0;34m\u001b[0m\u001b[0;34m\u001b[0m\u001b[0m\n",
            "\u001b[0;31mTypeError\u001b[0m: can't mod complex numbers."
          ]
        }
      ]
    },
    {
      "cell_type": "markdown",
      "metadata": {
        "id": "pghsd3ZphNYM",
        "colab_type": "text"
      },
      "source": [
        "**Floor division of complex numbers(using above case as example)**"
      ]
    },
    {
      "cell_type": "code",
      "metadata": {
        "id": "q379fyawhTH6",
        "colab_type": "code",
        "colab": {
          "base_uri": "https://localhost:8080/",
          "height": 185
        },
        "outputId": "b2c9d048-2984-403a-e990-89fad1027ec8"
      },
      "source": [
        "#Performing the modulo divisons and assigning outputs to variables z4\n",
        "z5 = z1 // z2\n",
        "print(z5)"
      ],
      "execution_count": null,
      "outputs": [
        {
          "output_type": "error",
          "ename": "TypeError",
          "evalue": "ignored",
          "traceback": [
            "\u001b[0;31m---------------------------------------------------------------------------\u001b[0m",
            "\u001b[0;31mTypeError\u001b[0m                                 Traceback (most recent call last)",
            "\u001b[0;32m<ipython-input-16-b2a58d96ba1e>\u001b[0m in \u001b[0;36m<module>\u001b[0;34m()\u001b[0m\n\u001b[0;32m----> 1\u001b[0;31m \u001b[0mz5\u001b[0m \u001b[0;34m=\u001b[0m \u001b[0mz1\u001b[0m \u001b[0;34m//\u001b[0m \u001b[0mz2\u001b[0m\u001b[0;34m\u001b[0m\u001b[0;34m\u001b[0m\u001b[0m\n\u001b[0m\u001b[1;32m      2\u001b[0m \u001b[0mprint\u001b[0m\u001b[0;34m(\u001b[0m\u001b[0mz5\u001b[0m\u001b[0;34m)\u001b[0m\u001b[0;34m\u001b[0m\u001b[0;34m\u001b[0m\u001b[0m\n",
            "\u001b[0;31mTypeError\u001b[0m: can't take floor of complex number."
          ]
        }
      ]
    },
    {
      "cell_type": "markdown",
      "metadata": {
        "id": "JcWuQZg0lFMg",
        "colab_type": "text"
      },
      "source": [
        "**Applying the associativity rule to check how precedence is taken on complex numbers**"
      ]
    },
    {
      "cell_type": "code",
      "metadata": {
        "id": "1Sevlg5DlOqc",
        "colab_type": "code",
        "colab": {
          "base_uri": "https://localhost:8080/",
          "height": 34
        },
        "outputId": "7b7c7f18-714a-40e0-f6e0-044344e73c95"
      },
      "source": [
        "#Initializing two complex variables as below\n",
        "x = 4+7j\n",
        "y = 9-4.5j\n",
        "\n",
        "#Applying PEMDAS rule\n",
        "\n",
        "z3 = z1 + ((z2 - 3*z2) + (z1 + 4*z1) + z2 - z1)* z2 - z1 + z2\n",
        "print(z3)"
      ],
      "execution_count": null,
      "outputs": [
        {
          "output_type": "stream",
          "text": [
            "(-113.45999999999998-303.4j)\n"
          ],
          "name": "stdout"
        }
      ]
    },
    {
      "cell_type": "markdown",
      "metadata": {
        "id": "CvNAiOb_l8xu",
        "colab_type": "text"
      },
      "source": [
        "So from the above example, the expression given in brackets will execute first(((z2 - 3*z2) + (z1 + 4*z1) + z2 - z1)) according to PEMDAS rule, followed by multiplication(((z2 - 3*z2) + (z1 + 4*z1) + z2 - z1)* z2) and the addition from left as addition and subtraction will have same power so intepreter will execute from left to right.(z1 + ((z2 - 3*z2) + (z1 + 4*z1) + z2 - z1)* z2 - z1 + z2)"
      ]
    },
    {
      "cell_type": "markdown",
      "metadata": {
        "id": "mgmpU85UilHs",
        "colab_type": "text"
      },
      "source": [
        "**From above, the below conclusions can be drawn after doing a research on operations with complex numbers.**\n",
        "\n",
        "1. Unlike real numbers, floor and modulo division is not possible with complex numbers. Because resources highlighted that the floor and modulo division has been removed from Python 3.x and exist only till 2.x\n",
        "\n",
        "2. Few resources commented that complex numbers in python 3.x are defined with their imaginary part as j, not i\n",
        "\n",
        "3. Addition, Subtraction and Multiplication will execute same as they execute on normal numbers and stick to the rule PEMDAS"
      ]
    },
    {
      "cell_type": "markdown",
      "metadata": {
        "id": "DzdZOr4jmobX",
        "colab_type": "text"
      },
      "source": [
        "## **Question 2 :**\n",
        "Research on range() functions and its parameters. Create a markdown cell and write in your own\n",
        "words (no copy-paste from google please) what you understand about it. Implement a small program of your choice on the same."
      ]
    },
    {
      "cell_type": "markdown",
      "metadata": {
        "id": "QwjaaE5knFQp",
        "colab_type": "text"
      },
      "source": [
        "**Definition of range() function:** <br>\n",
        "\n",
        "One of the most important built-in functions in python is range. The range function returns a sequence of numbers between start and stop. Range function is denoted as range()"
      ]
    },
    {
      "cell_type": "markdown",
      "metadata": {
        "id": "so83vmeSnsmt",
        "colab_type": "text"
      },
      "source": [
        "**Syntax of range function:** <br>\n",
        "range(start, stop, step)\n",
        "\n",
        "start - a parameter to tell the range at which position the range should start <br>\n",
        "stop - a paramter that tells at which position the range should stop <br>\n",
        "step - a paramter that tells how much to be incremented once start parameter is initiated <br>\n",
        "\n",
        "\n",
        "We need to make a note that start and step parameters are optional."
      ]
    },
    {
      "cell_type": "markdown",
      "metadata": {
        "id": "4L5bcvgOrDBl",
        "colab_type": "text"
      },
      "source": [
        "**Calling range function**<br>\n",
        "There are three ways that you can call range function\n",
        "\n",
        "*   Calling range with one parameter\n",
        "*   Calling range with two parameters\n",
        "*   Calling range with three parameters\n",
        "\n",
        "The range function is designed in python in such a way that whenever it is called, it will follow below steps.\n",
        "\n",
        "*   First it will initiate with the number which is given in start parameter\n",
        "*   Generates the sequence of the numbers till stop-1\n",
        "*   prints the numbers generated as output\n",
        "\n",
        "**If we want to generate sequence with decremented way, the start and stop parameters should be in such a way that start parameter > stop parameter.**\n",
        "\n",
        "\n",
        "\n",
        "\n",
        "\n"
      ]
    },
    {
      "cell_type": "code",
      "metadata": {
        "id": "puaigjyZrc9-",
        "colab_type": "code",
        "colab": {
          "base_uri": "https://localhost:8080/",
          "height": 567
        },
        "outputId": "72de95c3-7bf9-4eca-eb6c-2e3b834f5fa4"
      },
      "source": [
        "#Calling range function with one parameter\n",
        "z = range(5)\n",
        "print(\"Printing the numbers from 0 to 4\")\n",
        "for x in z:\n",
        "  print(x)\n",
        "print()\n",
        "\n",
        "#Calling range function with two parameters\n",
        "print(\"Printing the numbers from 5 to 9\")\n",
        "s = range(5,10)\n",
        "for me in s:\n",
        "  print(me)\n",
        "print()\n",
        "\n",
        "#Calling range function with three parameters using incremented\n",
        "print(\"Printing the numbers from 11 to 19 with incrementing 2 steps\")\n",
        "d = range(11,20,2)\n",
        "for k in d:\n",
        "  print(k)\n",
        "\n",
        "print()\n",
        "\n",
        "#Calling range function with three parameters using decremented\n",
        "o = range(40,15,-3)\n",
        "print(\"Printing the numbers from 40 to 15 with decrementing 3 steps\")\n",
        "for to in o:\n",
        "  print(to)\n",
        "\n"
      ],
      "execution_count": null,
      "outputs": [
        {
          "output_type": "stream",
          "text": [
            "Printing the numbers from 0 to 4\n",
            "0\n",
            "1\n",
            "2\n",
            "3\n",
            "4\n",
            "\n",
            "Printing the numbers from 5 to 9\n",
            "5\n",
            "6\n",
            "7\n",
            "8\n",
            "9\n",
            "\n",
            "Printing the numbers from 11 to 19 with incrementing 2 steps\n",
            "11\n",
            "13\n",
            "15\n",
            "17\n",
            "19\n",
            "\n",
            "Printing the numbers from 40 to 15 with decrementing 3 steps\n",
            "40\n",
            "37\n",
            "34\n",
            "31\n",
            "28\n",
            "25\n",
            "22\n",
            "19\n",
            "16\n"
          ],
          "name": "stdout"
        }
      ]
    },
    {
      "cell_type": "markdown",
      "metadata": {
        "id": "pN-b5CnRuVvq",
        "colab_type": "text"
      },
      "source": [
        "**Small demo** <br>\n",
        "Write a program on printing the squares of numbers between 11 to 20 using range function"
      ]
    },
    {
      "cell_type": "code",
      "metadata": {
        "id": "h3GKx6q_ugbx",
        "colab_type": "code",
        "colab": {
          "base_uri": "https://localhost:8080/",
          "height": 176
        },
        "outputId": "0237218b-cb64-4cd3-a008-787dc522b59f"
      },
      "source": [
        "#Initialize range function and take values from 11 to 20\n",
        "numbers = range(11,20)\n",
        "\n",
        "#using for loop print squares of given range\n",
        "for x in numbers:\n",
        "  print(\"Square of \",x,\": \", x**2)"
      ],
      "execution_count": null,
      "outputs": [
        {
          "output_type": "stream",
          "text": [
            "Square of  11 :  121\n",
            "Square of  12 :  144\n",
            "Square of  13 :  169\n",
            "Square of  14 :  196\n",
            "Square of  15 :  225\n",
            "Square of  16 :  256\n",
            "Square of  17 :  289\n",
            "Square of  18 :  324\n",
            "Square of  19 :  361\n"
          ],
          "name": "stdout"
        }
      ]
    },
    {
      "cell_type": "code",
      "metadata": {
        "id": "VtGy2RuovDRS",
        "colab_type": "code",
        "colab": {}
      },
      "source": [
        ""
      ],
      "execution_count": null,
      "outputs": []
    },
    {
      "cell_type": "markdown",
      "metadata": {
        "id": "7CIi8F6VyO52",
        "colab_type": "text"
      },
      "source": [
        "## **Question 3:** <br>\n",
        "Consider two numbers. Perform their subtraction and if the result of subtraction is greater than\n",
        "25, print their multiplication result else print their division result"
      ]
    },
    {
      "cell_type": "code",
      "metadata": {
        "id": "Yg2ym2hJyVUz",
        "colab_type": "code",
        "colab": {
          "base_uri": "https://localhost:8080/",
          "height": 105
        },
        "outputId": "d77b36d6-a4af-4d7d-ae9c-9924f9bfe0f6"
      },
      "source": [
        "#Initialize four variables and assign numbers\n",
        "x1 = 32\n",
        "y1 = 47\n",
        "x2 = 45\n",
        "y2 = 19\n",
        "\n",
        "#perform the subtraction and store the value in result variable\n",
        "result = x1 - y1 #this is for failure case\n",
        "result2 = x2 - y2 #this is for success case\n",
        "\n",
        "#check whether result is greter than 25\n",
        "if result > 25:\n",
        "  #if this condition is true, then evaluate multiplication of x and y and print the result\n",
        "  print(result, \"is greater than 25\")\n",
        "  print(\"Muliplication will be executed\", x1*y1)\n",
        "else:\n",
        "  #if condition is false, evaluate division and print the result\n",
        "  print(result, \"is not greater than 25\")\n",
        "  print(\"Division is executed.\", x1/y1)\n",
        "\n",
        "print()\n",
        "\n",
        "\n",
        "if result2 > 25:\n",
        "  #if this condition is true, then evaluate multiplication of x and y and print the result\n",
        "  print(result2, \"is greater than 25\")\n",
        "  print(\"Muliplication will be executed\", x2*y2)\n",
        "else:\n",
        "  #if condition is false, evaluate division and print the result\n",
        "  print(result2, \"is not greater than 25\")\n",
        "  print(\"Division is executed.\", x2/y2)"
      ],
      "execution_count": null,
      "outputs": [
        {
          "output_type": "stream",
          "text": [
            "-15 is not greater than 25\n",
            "Division is executed. 0.6808510638297872\n",
            "\n",
            "26 is greater than 25\n",
            "Muliplication will be executed 855\n"
          ],
          "name": "stdout"
        }
      ]
    },
    {
      "cell_type": "code",
      "metadata": {
        "id": "4ghrfupv0MP6",
        "colab_type": "code",
        "colab": {}
      },
      "source": [
        ""
      ],
      "execution_count": null,
      "outputs": []
    },
    {
      "cell_type": "markdown",
      "metadata": {
        "id": "kT7fBW6a0i8p",
        "colab_type": "text"
      },
      "source": [
        "## **Question 4:**   <br>\n",
        "Consider a list of 10 elements of integer values. If the number in the list is divisible by 2, print the\n",
        "result as \"square of that number minus 2\".\n",
        "\n"
      ]
    },
    {
      "cell_type": "code",
      "metadata": {
        "id": "i0w4x2-V0tKc",
        "colab_type": "code",
        "colab": {
          "base_uri": "https://localhost:8080/",
          "height": 478
        },
        "outputId": "3ff3e3d4-99d9-43fe-c590-cc37e60bf279"
      },
      "source": [
        "#Initialize a list with 10 elements\n",
        "my_list = [9,12,15,33,44,18,7,58,70,84]\n",
        "\n",
        "#Iterate over a list with for loop\n",
        "for x in my_list:\n",
        "  #Check if the number in the list is divisible by 2\n",
        "  if x%2 == 0:\n",
        "    #Print the \"square of the number minus 2\"\n",
        "    print(x, \"is divisible by 2\")\n",
        "    print(\"Square of \", x, \"minus 2 is: \", (x**2)-2)\n",
        "    print()\n",
        "  else:\n",
        "    print(x, \"is not divisible by 2. Skipping to next number....\")\n",
        "    print()\n",
        "\n"
      ],
      "execution_count": null,
      "outputs": [
        {
          "output_type": "stream",
          "text": [
            "9 is not divisible by 2. Skipping to next number....\n",
            "\n",
            "12 is divisible by 2\n",
            "Square of  12 minus 2 is:  142\n",
            "\n",
            "15 is not divisible by 2. Skipping to next number....\n",
            "\n",
            "33 is not divisible by 2. Skipping to next number....\n",
            "\n",
            "44 is divisible by 2\n",
            "Square of  44 minus 2 is:  1934\n",
            "\n",
            "18 is divisible by 2\n",
            "Square of  18 minus 2 is:  322\n",
            "\n",
            "7 is not divisible by 2. Skipping to next number....\n",
            "\n",
            "58 is divisible by 2\n",
            "Square of  58 minus 2 is:  3362\n",
            "\n",
            "70 is divisible by 2\n",
            "Square of  70 minus 2 is:  4898\n",
            "\n",
            "84 is divisible by 2\n",
            "Square of  84 minus 2 is:  7054\n",
            "\n"
          ],
          "name": "stdout"
        }
      ]
    },
    {
      "cell_type": "markdown",
      "metadata": {
        "id": "-SFFF8KB2SNr",
        "colab_type": "text"
      },
      "source": [
        "## **Question 5:** <br>\n",
        "\n",
        "Consider a list of 10 elements. Print all the elements in the list which are greater than 7 when that\n",
        "number is divided 2."
      ]
    },
    {
      "cell_type": "code",
      "metadata": {
        "id": "dYQYBuOy2XFB",
        "colab_type": "code",
        "colab": {
          "base_uri": "https://localhost:8080/",
          "height": 496
        },
        "outputId": "a68362a2-5801-4c8a-92e7-c0e1bc9f4f40"
      },
      "source": [
        "#Initializw a list with 10 elements\n",
        "my_list2 = [-3,-1,0,6,9,28,49,88,92]\n",
        "\n",
        "#Iterate over the list using for loop\n",
        "for x in my_list2:\n",
        "  print(\"Checking the condition with element \", x,\"....\")\n",
        "  #Check whether each element is greater than 7 when it is divided by 2\n",
        "  if (x/2) > 7:\n",
        "    #check if the quotient is greater than 7 after successful division of 2\n",
        "    print(x, \"is divisible by 2. The qutioent is \", (x/2), \"which is greater than 7\")\n",
        "    print()  \n",
        "  else:\n",
        "    print(x, \"is divisible by 2. The qutioent is \", (x/2), \"which is not greater than 7\")\n",
        "    print()"
      ],
      "execution_count": 4,
      "outputs": [
        {
          "output_type": "stream",
          "text": [
            "Checking the condition with element  -3 ....\n",
            "-3 is divisible by 2. The qutioent is  -1.5 which is not greater than 7\n",
            "\n",
            "Checking the condition with element  -1 ....\n",
            "-1 is divisible by 2. The qutioent is  -0.5 which is not greater than 7\n",
            "\n",
            "Checking the condition with element  0 ....\n",
            "0 is divisible by 2. The qutioent is  0.0 which is not greater than 7\n",
            "\n",
            "Checking the condition with element  6 ....\n",
            "6 is divisible by 2. The qutioent is  3.0 which is not greater than 7\n",
            "\n",
            "Checking the condition with element  9 ....\n",
            "9 is divisible by 2. The qutioent is  4.5 which is not greater than 7\n",
            "\n",
            "Checking the condition with element  28 ....\n",
            "28 is divisible by 2. The qutioent is  14.0 which is greater than 7\n",
            "\n",
            "Checking the condition with element  49 ....\n",
            "49 is divisible by 2. The qutioent is  24.5 which is greater than 7\n",
            "\n",
            "Checking the condition with element  88 ....\n",
            "88 is divisible by 2. The qutioent is  44.0 which is greater than 7\n",
            "\n",
            "Checking the condition with element  92 ....\n",
            "92 is divisible by 2. The qutioent is  46.0 which is greater than 7\n",
            "\n"
          ],
          "name": "stdout"
        }
      ]
    },
    {
      "cell_type": "code",
      "metadata": {
        "id": "2RyoeWrA4JvS",
        "colab_type": "code",
        "colab": {}
      },
      "source": [
        ""
      ],
      "execution_count": null,
      "outputs": []
    }
  ]
}
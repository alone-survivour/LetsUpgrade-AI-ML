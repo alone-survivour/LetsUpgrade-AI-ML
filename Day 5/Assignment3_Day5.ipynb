{
  "nbformat": 4,
  "nbformat_minor": 0,
  "metadata": {
    "colab": {
      "name": "Assignment3_Day5.ipynb",
      "provenance": [],
      "collapsed_sections": [
        "dsOnh_q42DkI",
        "SYgrHDftwrX-",
        "J4mGzZXdNzKc"
      ]
    },
    "kernelspec": {
      "name": "python3",
      "display_name": "Python 3"
    }
  },
  "cells": [
    {
      "cell_type": "markdown",
      "metadata": {
        "id": "h4F9xieauy3v",
        "colab_type": "text"
      },
      "source": [
        "### **Question 1 :**\n",
        "Write a Python program to find the first 20 non-even prime natural numbers."
      ]
    },
    {
      "cell_type": "markdown",
      "metadata": {
        "id": "lOWrCJmCvHZJ",
        "colab_type": "text"
      },
      "source": [
        "Non-even prime natural numbers is nothing but odd prime natural numbers which are greater than 2. The follwing conditions are pre-requisites to become a number non-even prime\n",
        "\n",
        "**Eligiblity of number to become non-even/odd prime number**\n",
        "*   Number should meet odd number condition(not divisible by 2)\n",
        "*   Number should also meet prime number condition(number has factors 1 and itself, eg: 17)\n",
        "\n",
        "**Eligiblity of number to become even prime number**\n",
        "*   Number should meet even number condition(should be divisible by 2)\n",
        "*   Number should not meet prime number condition(number should has more factors than 1 and itself, eg: 6)\n",
        "\n",
        "\n",
        "\n"
      ]
    },
    {
      "cell_type": "code",
      "metadata": {
        "id": "Ycr0nnDTy9yT",
        "colab_type": "code",
        "colab": {
          "base_uri": "https://localhost:8080/",
          "height": 187
        },
        "outputId": "30fc36f8-6443-433a-805c-eee00511b503"
      },
      "source": [
        "#Take n from input user\n",
        "n = int(input(\"Enter the value of n to generate  non-even prime numbers:\\n\"))\n",
        "print()\n",
        "\n",
        "\n",
        "#Define two empty lists. One list is to show all non-even prime numbers exist between 1 to n*10(a random infinte number).\n",
        "#Second list is to show first 20 non-even primes from above\n",
        "primes_all = []\n",
        "primes_20 = []\n",
        "\n",
        "#Generate a loop to print the non-even primes\n",
        "for x in range(1,n*10):\n",
        "  #As definition, 2 is an even prime which is not required in this case\n",
        "  if x>2:\n",
        "    for y in range(2,x):\n",
        "      if (x%y) == 0:\n",
        "        break\n",
        "    else:\n",
        "      #add all the required non-even primes to above created list using python built-in function called list.appen()\n",
        "      primes_all.append(x)\n",
        "\n",
        "#print all the non-even primes exists\n",
        "print(\"The non-even prime numbers from 1 to\", n*10, \"are:\\n\")\n",
        "for j in primes_all:\n",
        "  print(j, end=\" \")\n",
        "\n",
        "#add first 20 non-even primes from above list to second list created above\n",
        "for k in range(0,20):\n",
        "  primes_20.append(primes_all[k])\n",
        "print()\n",
        "\n",
        "#print the required output\n",
        "print()\n",
        "print(\"Of which the first 20 non-even primes are:\\n\")\n",
        "for m in primes_20:\n",
        "  print(m, end=\" \")"
      ],
      "execution_count": 25,
      "outputs": [
        {
          "output_type": "stream",
          "text": [
            "Enter the value of n to generate  non-even prime numbers:\n",
            "20\n",
            "\n",
            "The non-even prime numbers from 1 to 200 are:\n",
            "\n",
            "3 5 7 11 13 17 19 23 29 31 37 41 43 47 53 59 61 67 71 73 79 83 89 97 101 103 107 109 113 127 131 137 139 149 151 157 163 167 173 179 181 191 193 197 199 \n",
            "\n",
            "Of which the first 20 non-even primes are:\n",
            "\n",
            "3 5 7 11 13 17 19 23 29 31 37 41 43 47 53 59 61 67 71 73 "
          ],
          "name": "stdout"
        }
      ]
    },
    {
      "cell_type": "markdown",
      "metadata": {
        "id": "dsOnh_q42DkI",
        "colab_type": "text"
      },
      "source": [
        "### **Question 2:**\n",
        "Write a Python program to implement 15 functions of string."
      ]
    },
    {
      "cell_type": "markdown",
      "metadata": {
        "id": "3-YsJ_6q3j5t",
        "colab_type": "text"
      },
      "source": [
        "1. **center()** <br>\n",
        "\n",
        "   The center() method center aligns a string. The alignment is done using a    specified character (whitespace is the default)<br>\n",
        "\n",
        "   **Syntax** <br>\n",
        "\n",
        "   str.center(length, fillchar), where : <br>\n",
        "   length is the length of the string[Required] <br>\n",
        "   fillchar is the character which specifies the alignment[Optional]"
      ]
    },
    {
      "cell_type": "code",
      "metadata": {
        "id": "5v2f76yn4Aqf",
        "colab_type": "code",
        "colab": {
          "base_uri": "https://localhost:8080/",
          "height": 0
        },
        "outputId": "8ccce906-e98d-40d9-f888-1c4ecbad6318"
      },
      "source": [
        "sentence = \"algorithm\"\n",
        "print(sentence.center(15,\"@\"))"
      ],
      "execution_count": 27,
      "outputs": [
        {
          "output_type": "stream",
          "text": [
            "@@@algorithm@@@\n"
          ],
          "name": "stdout"
        }
      ]
    },
    {
      "cell_type": "markdown",
      "metadata": {
        "colab_type": "text",
        "id": "Q-jSmjUm4dwm"
      },
      "source": [
        "2. **count()** <br>\n",
        "\n",
        "   The count() method returns the count or the number of times a particular value appears in a string.<br>\n",
        "\n",
        "   **Syntax** <br>\n",
        "\n",
        "   str.count(value, start, end), where : <br>\n",
        "   value is the substring which is to be searched in the string[Required]<br>\n",
        "\n",
        "   start is the starting index within the string where the search for the    specified value starts[Optional]<br>\n",
        "\n",
        "   end is the ending index within the string where the search for the specified value ends[Optional]<br>"
      ]
    },
    {
      "cell_type": "code",
      "metadata": {
        "id": "Xm-Esd_T4ycD",
        "colab_type": "code",
        "colab": {
          "base_uri": "https://localhost:8080/",
          "height": 0
        },
        "outputId": "c4dbdd86-0428-411d-d2d8-ad00ff033b35"
      },
      "source": [
        "sentence = \"She sells seashells by the seashore. The shells she sells are purely seashells\"\n",
        "print(\"Number of times\", \"'shell'\",\"appeared in above sentence is: \", sentence.count(\"shells\"))"
      ],
      "execution_count": 28,
      "outputs": [
        {
          "output_type": "stream",
          "text": [
            "Number of times 'shell' appeared in above sentence is:  3\n"
          ],
          "name": "stdout"
        }
      ]
    },
    {
      "cell_type": "code",
      "metadata": {
        "id": "7szpuNkp5K9M",
        "colab_type": "code",
        "colab": {
          "base_uri": "https://localhost:8080/",
          "height": 0
        },
        "outputId": "628f7951-3092-4fef-ebda-90f8b602f0c5"
      },
      "source": [
        "sentence = \"She sells seashells by the seashore. The shells she sells are purely seashells\"\n",
        "print(\"Number of times\", \"'shell'\",\"appeared in substring\",\"'\", sentence[9:26], \"'\", \"is: \", sentence.count(\"shells\", 9,25))"
      ],
      "execution_count": 36,
      "outputs": [
        {
          "output_type": "stream",
          "text": [
            "Number of times 'shell' appeared in substring '  seashells by the ' is:  1\n"
          ],
          "name": "stdout"
        }
      ]
    },
    {
      "cell_type": "markdown",
      "metadata": {
        "colab_type": "text",
        "id": "efBuST5g6TS6"
      },
      "source": [
        "3. **find()** <br>\n",
        "\n",
        "   The find()method returns the lowest index of a particular substring in a string. If the substring is not found, -1 is returned.<br>\n",
        "\n",
        "   **Syntax** <br>\n",
        "\n",
        "   str.find(value, start, end), where : <br>\n",
        "   value or substring which is to be searched in the string[Required]<br>\n",
        "\n",
        "   start is the starting index within the string where the search for the specified value starts[Optional]<br>\n",
        "\n",
        "   end is the ending index within the string where the search for the specified value ends[Optional]br>"
      ]
    },
    {
      "cell_type": "code",
      "metadata": {
        "id": "b3mzWANi6l8p",
        "colab_type": "code",
        "colab": {
          "base_uri": "https://localhost:8080/",
          "height": 0
        },
        "outputId": "e6e11bf5-9bb7-42a6-816c-e847a8596b8d"
      },
      "source": [
        "sentence = \"She sells seashells by the seashore. The shells she sells are purely seashells\"\n",
        "print(\"The substring \", \"'seashells'\", \"will appear at: \", sentence.find(\"seashells\"))"
      ],
      "execution_count": 38,
      "outputs": [
        {
          "output_type": "stream",
          "text": [
            "The substring  'seashells' will appear at:  10\n"
          ],
          "name": "stdout"
        }
      ]
    },
    {
      "cell_type": "code",
      "metadata": {
        "id": "HjAimtXT61_g",
        "colab_type": "code",
        "colab": {
          "base_uri": "https://localhost:8080/",
          "height": 0
        },
        "outputId": "24cd229d-da7e-4a7d-9b80-8bbe35d3d3f3"
      },
      "source": [
        "sentence = \"She sells seashells by the seashore. The shells she sells are purely seashells\"\n",
        "print(sentence.find(\"seashells\", 12,58))"
      ],
      "execution_count": 39,
      "outputs": [
        {
          "output_type": "stream",
          "text": [
            "-1\n"
          ],
          "name": "stdout"
        }
      ]
    },
    {
      "cell_type": "code",
      "metadata": {
        "id": "_XGWrlIM7V1y",
        "colab_type": "code",
        "colab": {
          "base_uri": "https://localhost:8080/",
          "height": 0
        },
        "outputId": "fffa170b-defd-4fec-a4b9-c73653c6688b"
      },
      "source": [
        "#The rfind() method is similar to find() except that it returns the highest index value of the substring\n",
        "sentence = \"She sells seashells by the seashore. The shells she sells are purely seashells\"\n",
        "print(sentence.rfind(\"seashells\"))"
      ],
      "execution_count": 40,
      "outputs": [
        {
          "output_type": "stream",
          "text": [
            "69\n"
          ],
          "name": "stdout"
        }
      ]
    },
    {
      "cell_type": "markdown",
      "metadata": {
        "colab_type": "text",
        "id": "zjE4efDt7psC"
      },
      "source": [
        "4. **swapcase()** <br>\n",
        "\n",
        "   The swapcase() method returns a copy of the string with all its uppercase letters converted into lower case and vice versa.<br>\n",
        "\n",
        "   **Syntax** <br>\n",
        "\n",
        "   string.swapcase()<br>"
      ]
    },
    {
      "cell_type": "code",
      "metadata": {
        "id": "KokeDqsX711K",
        "colab_type": "code",
        "colab": {
          "base_uri": "https://localhost:8080/",
          "height": 0
        },
        "outputId": "bb95d813-3518-412b-83e5-e290fff31624"
      },
      "source": [
        "sentence = \"PYTHON is the hIGH lEvEl pRoGrAmMiNg langUAGE\"\n",
        "print(\"Before swap case: \")\n",
        "print(sentence)\n",
        "print()\n",
        "print(\"After swapcase: \")\n",
        "print(sentence.swapcase())"
      ],
      "execution_count": 41,
      "outputs": [
        {
          "output_type": "stream",
          "text": [
            "Before swap case: \n",
            "PYTHON is the hIGH lEvEl pRoGrAmMiNg langUAGE\n",
            "\n",
            "After swapcase: \n",
            "python IS THE High LeVeL PrOgRaMmInG LANGuage\n"
          ],
          "name": "stdout"
        }
      ]
    },
    {
      "cell_type": "markdown",
      "metadata": {
        "colab_type": "text",
        "id": "Isy85us5-rfc"
      },
      "source": [
        "5. **startswith( ) and endswith( )** <br>\n",
        "\n",
        "   The startswith() method returns True if the string starts with the specified value; otherwise, it returns False.<br>\n",
        "\n",
        "   The endswith() function, on the other hand, returns True if the string endswith the specified value, else it returns False..<br>\n",
        "\n",
        "   **Syntax** <br>\n",
        "\n",
        "   string.startswith(value, start, end) <br>\n",
        "   string.endsswith(value, start, end) <br>\n",
        "\n",
        "   value is the string to look for in the string[Required]<br>\n",
        "\n",
        "   start is the starting index within the string where the search for the specified value starts[Optional]<br>\n",
        "\n",
        "   end is the ending index within the string where the search for the specified value ends[Optional]br>"
      ]
    },
    {
      "cell_type": "code",
      "metadata": {
        "id": "Fope5Vuy_DH2",
        "colab_type": "code",
        "colab": {
          "base_uri": "https://localhost:8080/",
          "height": 0
        },
        "outputId": "2b6d8872-fcf7-4f0a-8b92-e88a82a4681e"
      },
      "source": [
        "sentence = \"Binary search is a classic recursice search algorithm\"\n",
        "#startswith\n",
        "print(sentence.startswith(\"Binary\"))\n",
        "print(sentence.startswith(\"search\", 7,20))\n",
        "print()\n",
        "#endswith\n",
        "print(sentence.endswith(\"algorithm\"))\n",
        "print(sentence.endswith(\"classic\"))"
      ],
      "execution_count": 45,
      "outputs": [
        {
          "output_type": "stream",
          "text": [
            "True\n",
            "True\n",
            "\n",
            "True\n",
            "False\n"
          ],
          "name": "stdout"
        }
      ]
    },
    {
      "cell_type": "markdown",
      "metadata": {
        "colab_type": "text",
        "id": "8esREO6tAKB0"
      },
      "source": [
        "6. **split()** <br>\n",
        "\n",
        "   The split() method returns a list of words in a string where default separator is any whitespace.<br>\n",
        "\n",
        "   **Syntax** <br>\n",
        "\n",
        "   string.split(sep, maxsplit), where : <br>\n",
        "   sep: The separator to be used for splitting the string. if nothing is specified, whitespace is the default separator[Optional]<br>\n",
        "\n",
        "   maxsplit: denotes the number of splits. Default is -1 which means “all occurrences”[Optional]<br>"
      ]
    },
    {
      "cell_type": "code",
      "metadata": {
        "id": "m_HSZZkrAZup",
        "colab_type": "code",
        "colab": {
          "base_uri": "https://localhost:8080/",
          "height": 0
        },
        "outputId": "1bc1dddf-6e41-4c6d-eef8-1bbb8d0a0322"
      },
      "source": [
        "#without maxsplit\n",
        "fruits = \"apples, mangoes, bananas, grapes\"\n",
        "print(fruits.split())\n",
        "\n",
        "#with maxsplit\n",
        "fruits = \"apples, mangoes, bananas, grapes\"\n",
        "print(fruits.split(\",\", maxsplit=2))"
      ],
      "execution_count": 47,
      "outputs": [
        {
          "output_type": "stream",
          "text": [
            "['apples,', 'mangoes,', 'bananas,', 'grapes']\n",
            "['apples', ' mangoes', ' bananas, grapes']\n"
          ],
          "name": "stdout"
        }
      ]
    },
    {
      "cell_type": "code",
      "metadata": {
        "id": "kjls8IgiAnot",
        "colab_type": "code",
        "colab": {
          "base_uri": "https://localhost:8080/",
          "height": 0
        },
        "outputId": "66ae3c36-50ba-4b1a-bf0f-9f87167ec84e"
      },
      "source": [
        "#rsplit(): splits a string from the right.\n",
        "print(fruits.rsplit(\",\", maxsplit=1))\n"
      ],
      "execution_count": 48,
      "outputs": [
        {
          "output_type": "stream",
          "text": [
            "['apples, mangoes, bananas', ' grapes']\n"
          ],
          "name": "stdout"
        }
      ]
    },
    {
      "cell_type": "markdown",
      "metadata": {
        "colab_type": "text",
        "id": "ZH9bbuW_BSQg"
      },
      "source": [
        "7. **capitalize(), upper() and title()** <br>\n",
        "\n",
        "   The capitalize() method capitalizes only the first character of a string..<br>\n",
        "   **Syntax** <br>\n",
        "   string.capitalize()<br><br>\n",
        "   The upper() method capitalizes all the letters of the string.<br>\n",
        "   **Syntax** <br>\n",
        "   string.upper() <br><br>\n",
        "   The title() method capitalizes all the first letters of the given string.<br>\n",
        "   **Syntax** <br>\n",
        "   string.title() <br>"
      ]
    },
    {
      "cell_type": "code",
      "metadata": {
        "id": "JLRrS5QVB89z",
        "colab_type": "code",
        "colab": {
          "base_uri": "https://localhost:8080/",
          "height": 0
        },
        "outputId": "f077652d-50f5-4008-e451-5e862f91d424"
      },
      "source": [
        "#Captalizing all letters of a string:\n",
        "word = \"sans fransisco\"\n",
        "print(word.upper())\n",
        "\n",
        "#Capitalizing only first letter of the string\n",
        "word = \"russia\"\n",
        "print(word.capitalize())\n",
        "\n",
        "#Capitalizing all first letters of string\n",
        "word = \"united states\"\n",
        "print(word.title())"
      ],
      "execution_count": 50,
      "outputs": [
        {
          "output_type": "stream",
          "text": [
            "SANS FRANSISCO\n",
            "Russia\n",
            "United States\n"
          ],
          "name": "stdout"
        }
      ]
    },
    {
      "cell_type": "markdown",
      "metadata": {
        "colab_type": "text",
        "id": "z2p9leyfC06t"
      },
      "source": [
        "8. **ljust( ) and rjust( )** <br>\n",
        "\n",
        "   The ljust() method returns a left-justified version of the given string using a specified character, whitespace being default. The rjust() method aligns the string to the right.<br>\n",
        "\n",
        "   **Syntax** <br>\n",
        "\n",
        "   string.rjust/ljust(length, character), where : <br>\n",
        "   length: length of the string which is to be returned[Required]<br>\n",
        "\n",
        "   character: Character used for filling in the missing space where whitespace is default[Optional]<br>"
      ]
    },
    {
      "cell_type": "code",
      "metadata": {
        "id": "qrUkunVsDNGq",
        "colab_type": "code",
        "colab": {
          "base_uri": "https://localhost:8080/",
          "height": 0
        },
        "outputId": "c3d6f9d8-2b5b-482d-b6c9-75cf94e19498"
      },
      "source": [
        "#str.rjust()\n",
        "sentence = \"Python's design\"\n",
        "print(sentence.rjust(25), \"philosophy emphasizes code readability with its notable use of significant whitespace.\")\n",
        "\n",
        "#str.ljust()\n",
        "sentence = \"Python's design\"\n",
        "print(sentence.ljust(25), \"philosophy emphasizes code readability with its notable use of significant whitespace.\")"
      ],
      "execution_count": 52,
      "outputs": [
        {
          "output_type": "stream",
          "text": [
            "          Python's design philosophy emphasizes code readability with its notable use of significant whitespace.\n",
            "Python's design           philosophy emphasizes code readability with its notable use of significant whitespace.\n"
          ],
          "name": "stdout"
        }
      ]
    },
    {
      "cell_type": "markdown",
      "metadata": {
        "colab_type": "text",
        "id": "96UeCCgwD4bO"
      },
      "source": [
        "9. **strip()** <br>\n",
        "\n",
        "   The strip() method returns a copy of the string with the leading and trailing characters removed. Default character to be removed is whitespace.<br>\n",
        "\n",
        "   **Syntax** <br>\n",
        "\n",
        "   string.strip(character), where : <br>\n",
        "   character: set of characters to be removed[Optional]<br>\n",
        "\n",
        "   **strip() is of two versions, lstrip() and rstrip()** <br>\n",
        "   rstrip(): strips characters from the right of a string.<br>\n",
        "   lstrip(): strips characters from the left of a string."
      ]
    },
    {
      "cell_type": "code",
      "metadata": {
        "id": "KCbFkoiOETP2",
        "colab_type": "code",
        "colab": {
          "base_uri": "https://localhost:8080/",
          "height": 0
        },
        "outputId": "4f64be0b-535d-4679-be44-32dab5477676"
      },
      "source": [
        "#lstrip()\n",
        "string = \"#.....Section 3.2.1 Issue #42.....\"\n",
        "print(string.strip('.#! '))\n",
        "print()\n",
        "\n",
        "#rstrip()\n",
        "string = \"#.....Section 3.2.1 Issue #42.....\"\n",
        "print(string.rstrip('.#! '))"
      ],
      "execution_count": 57,
      "outputs": [
        {
          "output_type": "stream",
          "text": [
            "Section 3.2.1 Issue #42\n",
            "\n",
            "#.....Section 3.2.1 Issue #42\n"
          ],
          "name": "stdout"
        }
      ]
    },
    {
      "cell_type": "markdown",
      "metadata": {
        "colab_type": "text",
        "id": "IEgro8GNFnvQ"
      },
      "source": [
        "10. **zfill()** <br>\n",
        "\n",
        "   The zfill() method adds zeros(0) at the beginning of the string. The length of the returned string depends on the width provided.<br>\n",
        "\n",
        "   **Syntax** <br>\n",
        "\n",
        "   string.zfill(width), where : <br>\n",
        "   width: specifies the length of the returned string. However, no zeros are added if the width parameter is less than the length of the original string.<br>"
      ]
    },
    {
      "cell_type": "code",
      "metadata": {
        "id": "tnbrmSc-F5XS",
        "colab_type": "code",
        "colab": {
          "base_uri": "https://localhost:8080/",
          "height": 0
        },
        "outputId": "f7e62e67-97a0-4bbe-9077-49b904e8b163"
      },
      "source": [
        "my_word = \"754\"\n",
        "print(my_word.zfill(5))"
      ],
      "execution_count": 58,
      "outputs": [
        {
          "output_type": "stream",
          "text": [
            "00754\n"
          ],
          "name": "stdout"
        }
      ]
    },
    {
      "cell_type": "markdown",
      "metadata": {
        "colab_type": "text",
        "id": "xVihG0oTGQiO"
      },
      "source": [
        "11. **format()** <br>\n",
        "\n",
        "   The format() method formats the specified value(s) and insert them inside the string's placeholder.<br>\n",
        "   The placeholder is defined using curly brackets: {}. Read more about the placeholders in the Placeholder section below.<br>\n",
        "\n",
        "  **Syntax** <br>\n",
        "\n",
        "   string.format(value1, value2...), where : <br>\n",
        "   value1, value2: One or more values that should be formatted and inserted in   the string. The values can be A number specifying the position of the element you want to remove.[Required]<br>\n",
        "\n",
        "  The placeholders can be identified using named indexes {price}, numbered indexes {0}, or even empty placeholders {}.<br>"
      ]
    },
    {
      "cell_type": "code",
      "metadata": {
        "id": "HUqZ3KcVHKGH",
        "colab_type": "code",
        "colab": {
          "base_uri": "https://localhost:8080/",
          "height": 0
        },
        "outputId": "885fc7cf-6017-48ad-90cb-5a6ba41c3aae"
      },
      "source": [
        "#String formatting with empty placeholders\n",
        "text1 = 'My name is {} and I am {}'.format(\"John\", \"45\")\n",
        "print(text1)\n",
        "\n",
        "#String formatting with named indices\n",
        "text2 = \"His name is {name} and he lives in {place}\".format(name=\"John\", place=\"London\")\n",
        "print(text2)\n",
        "\n",
        "#String formatting with numbered indices\n",
        "text3 = \"He has been living here since {0}. He has {1} sons\".format(1994, 2)\n",
        "print(text3)"
      ],
      "execution_count": 63,
      "outputs": [
        {
          "output_type": "stream",
          "text": [
            "My name is John and I am 45\n",
            "His name is John and he lives in London\n",
            "He has been living here since 1994. He has 2 sons\n"
          ],
          "name": "stdout"
        }
      ]
    },
    {
      "cell_type": "markdown",
      "metadata": {
        "colab_type": "text",
        "id": "hZk1iLV0Icqb"
      },
      "source": [
        "12. **replace** <br>\n",
        "\n",
        "   The replace() method replaces a specified phrase with another specified phrase.<br>\n",
        "\n",
        "   **Syntax** <br>\n",
        "\n",
        "   string.replace(oldvalue, newvalue, count), where : <br>\n",
        "   oldvalue: Required. The string to search for<br>\n",
        "\n",
        "   newvalue: Required. The string to replace the old value with<br>\n",
        "\n",
        "   count: Optional. A number specifying how many occurrences of the old value you want to replace. Default is all occurrences<br>"
      ]
    },
    {
      "cell_type": "code",
      "metadata": {
        "id": "WpI2N7HEI3Za",
        "colab_type": "code",
        "colab": {
          "base_uri": "https://localhost:8080/",
          "height": 0
        },
        "outputId": "84aeb348-7e63-41c2-887e-0a4a6217d36d"
      },
      "source": [
        "print(\"Replacing all occurances\")\n",
        "txt = \"one one was a race horse, two two was one too.\"\n",
        "print(\"Before replacing: \")\n",
        "print(txt)\n",
        "x = txt.replace(\"one\", \"three\")\n",
        "print(\"After replacing: \")\n",
        "print(x)\n",
        "print()\n",
        "print()\n",
        "print(\"Replace the two first occurrence of the word one\")\n",
        "txt = \"one one was a race horse, two two was one too.\"\n",
        "print(\"Before replacing: \")\n",
        "print(txt)\n",
        "x = txt.replace(\"one\", \"three\", 2)\n",
        "print(\"After replacing: \")\n",
        "print(x)"
      ],
      "execution_count": 70,
      "outputs": [
        {
          "output_type": "stream",
          "text": [
            "Replacing all occurances\n",
            "Before replacing: \n",
            "one one was a race horse, two two was one too.\n",
            "After replacing: \n",
            "three three was a race horse, two two was three too.\n",
            "\n",
            "\n",
            "Replace the two first occurrence of the word one\n",
            "Before replacing: \n",
            "one one was a race horse, two two was one too.\n",
            "After replacing: \n",
            "three three was a race horse, two two was one too.\n"
          ],
          "name": "stdout"
        }
      ]
    },
    {
      "cell_type": "markdown",
      "metadata": {
        "colab_type": "text",
        "id": "awfSxG_qJ2oy"
      },
      "source": [
        "13. **join()** <br>\n",
        "\n",
        "   The join() method takes all items in an iterable and joins them into one string.<br>\n",
        "\n",
        "   **Syntax** <br>\n",
        "\n",
        "   string.join(iterable), where : <br>\n",
        "   iterable: Required. Any iterable object where all the returned values are strings<br>"
      ]
    },
    {
      "cell_type": "code",
      "metadata": {
        "id": "hVOrp9TEKF9w",
        "colab_type": "code",
        "colab": {
          "base_uri": "https://localhost:8080/",
          "height": 0
        },
        "outputId": "b9c83c5f-caf2-400e-ce38-89bfa9d439ae"
      },
      "source": [
        "list1 = ['1','2','3','4']\n",
        "s = \"-\"\n",
        "s = s.join(list1)\n",
        "print(s)"
      ],
      "execution_count": 72,
      "outputs": [
        {
          "output_type": "stream",
          "text": [
            "1-2-3-4\n"
          ],
          "name": "stdout"
        }
      ]
    },
    {
      "cell_type": "markdown",
      "metadata": {
        "colab_type": "text",
        "id": "ank9_DR9KfMr"
      },
      "source": [
        "14. **index()** <br>\n",
        "\n",
        "   The index() method finds the first occurrence of the specified value.<br>\n",
        "   The index() method raises an exception if the value is not found. <br>\n",
        "   The index() method is almost the same as the find() method, the only difference is that the find() method returns -1 if the value is not found.<br>\n",
        "\n",
        "   **Syntax** <br>\n",
        "\n",
        "   string.index(value, start, end), where : <br>\n",
        "   value:  Required. The value to search for<br>\n",
        "\n",
        "   start:  Optional. Where to start the search. Default is 0<br>\n",
        "\n",
        "   end: Optional. Where to end the search. Default is to the end of the string <br>"
      ]
    },
    {
      "cell_type": "code",
      "metadata": {
        "id": "3Bby2VGrLD3b",
        "colab_type": "code",
        "colab": {
          "base_uri": "https://localhost:8080/",
          "height": 0
        },
        "outputId": "3725bd18-2e13-484c-c736-f156cf7d321b"
      },
      "source": [
        "#Getting the first occurance of the letter\n",
        "txt = \"Hello, welcome to my world.\"\n",
        "x = txt.index(\"e\")\n",
        "print(\"The first occurance of letter \", \"'e'\",\"in above text is at position: \", x)\n",
        "\n",
        "#Printing the occurances between specific start and end positions\n",
        "txt = \"Hello, welcome to my world.\"\n",
        "x = txt.index(\"e\", 5, 14)\n",
        "print(\"The first occurance of letter \", \"'e'\",\"in above text between position 5 and 14 is: \", x)\n",
        "\n",
        "#The rindex() method finds the last occurrence of the specified value.\n",
        "txt = \"Hello, welcome to my world.\"\n",
        "x = txt.rindex(\"e\")\n",
        "print(\"The last occurance of letter \", \"'e'\",\"in above text is at position: \", x)"
      ],
      "execution_count": 79,
      "outputs": [
        {
          "output_type": "stream",
          "text": [
            "The first occurance of letter  'e' in above text is at position:  1\n",
            "The first occurance of letter  'e' in above text between position 5 and 14 is:  8\n",
            "The last occurance of letter  'e' in above text is at position:  13\n"
          ],
          "name": "stdout"
        }
      ]
    },
    {
      "cell_type": "markdown",
      "metadata": {
        "colab_type": "text",
        "id": "SqkiO68EMbyG"
      },
      "source": [
        "15. **String boolean methods** <br>\n",
        "\n",
        "    1. isalnum() - Returns True if all characters in the string are alphanumeric\n",
        "    2. isdecimal() - Returns True if all characters in the string are decimals\n",
        "    3. isalpha() - Returns True if all characters in the string are in the alphabet\n",
        "    4. isdigit() - Returns True if all characters in the string are digits\n",
        "    5. isidentifier() - Returns True if the string is an identifier\n",
        "    6. islower() - Returns True if all characters in the string are lower case\n",
        "    7. isnumeric() - Returns True if all characters in the string are numeric\n",
        "    8. isspace() - Returns True if all characters in the string are whitespaces\n",
        "    9. isupper() - Returns True if all characters in the string are upper case"
      ]
    },
    {
      "cell_type": "code",
      "metadata": {
        "id": "frNPg2PVPJle",
        "colab_type": "code",
        "colab": {
          "base_uri": "https://localhost:8080/",
          "height": 0
        },
        "outputId": "c6903f37-0108-456b-d246-181a2402d7f0"
      },
      "source": [
        "#isalnum()\n",
        "txt = \"Company12\"\n",
        "x = txt.isalnum()\n",
        "print(x)\n",
        "\n",
        "#isdecimal()\n",
        "txt = \"\\u0030\" #unicode for 0\n",
        "x = txt.isdecimal()\n",
        "print(x)\n",
        "\n",
        "#isalpha()\n",
        "txt = \"CompanyX\"\n",
        "x = txt.isalpha()\n",
        "print(x)\n",
        "\n",
        "#isdigit()\n",
        "txt = \"50800\"\n",
        "x = txt.isdigit()\n",
        "print(x)\n",
        "\n",
        "#isidentifier()\n",
        "txt = \"Demo\"\n",
        "x = txt.isidentifier()\n",
        "print(x)\n",
        "\n",
        "#islower()\n",
        "txt = \"hello world!\"\n",
        "x = txt.islower()\n",
        "print(x)\n",
        "\n",
        "#isnumeric()\n",
        "txt = \"565543\"\n",
        "x = txt.isnumeric()\n",
        "print(x)\n",
        "\n",
        "#isspaace()\n",
        "txt = \"   \"\n",
        "x = txt.isspace()\n",
        "print(x)\n",
        "\n",
        "#isupper()\n",
        "txt = \"THIS IS NOW!\"\n",
        "x = txt.isupper()\n",
        "print(x)"
      ],
      "execution_count": 85,
      "outputs": [
        {
          "output_type": "stream",
          "text": [
            "True\n",
            "True\n",
            "True\n",
            "True\n",
            "True\n",
            "True\n",
            "True\n",
            "True\n",
            "True\n"
          ],
          "name": "stdout"
        }
      ]
    },
    {
      "cell_type": "markdown",
      "metadata": {
        "id": "SYgrHDftwrX-",
        "colab_type": "text"
      },
      "source": [
        "### **Question 3:**\n",
        "Write a Python program to check if the given string is a Palindrome or Anagram or None of them.\n",
        "Display the message accordingly to the user."
      ]
    },
    {
      "cell_type": "markdown",
      "metadata": {
        "id": "FgfIDjzbxPGf",
        "colab_type": "text"
      },
      "source": [
        "**Palindrome:**\n",
        "1. A set of characters can form a palindrome if at most one character occurs odd number of times and all characters occur even number of times.\n",
        "2. For example characters of “geeksogeeks” can be rearranged to form a palindrome “geeksoskeeg”, but characters of “geeksforgeeks” cannot be rearranged to form a palindrome.\n",
        "\n",
        "\n",
        "**Anagram:**\n",
        "1. Two words are anagrams of one another if their letters can be rearranged to form the other word.\n",
        "2. For example, “abcd” and “dabc” are anagram of each other."
      ]
    },
    {
      "cell_type": "code",
      "metadata": {
        "id": "ZK1jNXi_buGE",
        "colab_type": "code",
        "colab": {
          "base_uri": "https://localhost:8080/",
          "height": 1000
        },
        "outputId": "503f521b-fe25-49cb-f30e-068b98bbd737"
      },
      "source": [
        "while True:\n",
        "  user_ask = input(\"What would you like to check\\n1. Palindrome\\n2. Anagram\\n3. Both:\\n \")\n",
        "  user_response = int(user_ask)\n",
        "  if user_response == 1:\n",
        "    print()\n",
        "    print(\"You have selected option to check if given strings are palindrome to each other or not..\\n\")\n",
        "    print()\n",
        "    str1 = input(\"Enter first string: \")\n",
        "    str2 = input(\"Enter second string: \")\n",
        "    if str1[:] == str2[::-1]:\n",
        "      print(str1, \"and\", str2, \"are palindromes to each other\\n\")\n",
        "    else:\n",
        "      print(str1, \"and\", str2, \"are not palindromes to each other\\n\")\n",
        "\n",
        "  elif user_response == 2:\n",
        "    print()\n",
        "    print(\"You have selected option to check if given strings are anagram to each other or not..\\n\")\n",
        "    print()\n",
        "    str1 = input(\"Enter first string: \")\n",
        "    str2 = input(\"Enter second string: \")\n",
        "    if sorted(str1) == sorted(str2):\n",
        "      print(str1, \"and\",str2,\"are anagram to each other!\\n\")\n",
        "    else:\n",
        "      print(str1, \"and\",str2,\"are not anagram to each other!\\n\")\n",
        "  \n",
        "  elif user_response == 3:\n",
        "    print()\n",
        "    print(\"You have selected option to check if given strings are both anagram and palindrome to each other or not..\\n\")\n",
        "    print()\n",
        "    str1 = input(\"Enter first string: \")\n",
        "    str2 = input(\"Enter second string: \")\n",
        "    if ((str1[:] == str2[::-1]) and (sorted(str1)==sorted(str2))):\n",
        "      print(str1,\"and\",str2,\"are both palindrome and anagram to each other\\n\")\n",
        "    else:\n",
        "      print(str1,\"and\",str2,\"are neither  palindrome nor anagram to each other\\n\")\n",
        "  else:\n",
        "    print(\"Bad Input! Terminating the loop\")\n",
        "    break"
      ],
      "execution_count": 3,
      "outputs": [
        {
          "output_type": "stream",
          "text": [
            "What would you like to check\n",
            "1. Palindrome\n",
            "2. Anagram\n",
            "3. Both:\n",
            " 1\n",
            "\n",
            "You have selected option to check if given strings are palindrome to each other or not..\n",
            "\n",
            "\n",
            "Enter first string: sad\n",
            "Enter second string: das\n",
            "sad and das are palindromes to each other\n",
            "\n",
            "What would you like to check\n",
            "1. Palindrome\n",
            "2. Anagram\n",
            "3. Both:\n",
            " 1\n",
            "\n",
            "You have selected option to check if given strings are palindrome to each other or not..\n",
            "\n",
            "\n",
            "Enter first string: mad\n",
            "Enter second string: dad\n",
            "mad and dad are not palindromes to each other\n",
            "\n",
            "What would you like to check\n",
            "1. Palindrome\n",
            "2. Anagram\n",
            "3. Both:\n",
            " 2\n",
            "\n",
            "You have selected option to check if given strings are anagram to each other or not..\n",
            "\n",
            "\n",
            "Enter first string: silent\n",
            "Enter second string: listen\n",
            "silent and listen are anagram to each other!\n",
            "\n",
            "What would you like to check\n",
            "1. Palindrome\n",
            "2. Anagram\n",
            "3. Both:\n",
            " 2\n",
            "\n",
            "You have selected option to check if given strings are anagram to each other or not..\n",
            "\n",
            "\n",
            "Enter first string: sue\n",
            "Enter second string: kit\n",
            "sue and kit are not anagram to each other!\n",
            "\n",
            "What would you like to check\n",
            "1. Palindrome\n",
            "2. Anagram\n",
            "3. Both:\n",
            " 3\n",
            "\n",
            "You have selected option to check if given strings are both anagram and palindrome to each other or not..\n",
            "\n",
            "\n",
            "Enter first string: may\n",
            "Enter second string: yam\n",
            "may and yam are both palindrome and anagram to each other\n",
            "\n",
            "What would you like to check\n",
            "1. Palindrome\n",
            "2. Anagram\n",
            "3. Both:\n",
            " 3\n",
            "\n",
            "You have selected option to check if given strings are both anagram and palindrome to each other or not..\n",
            "\n",
            "\n",
            "Enter first string: sue\n",
            "Enter second string: due\n",
            "sue and due are neither  palindrome nor anagram to each other\n",
            "\n",
            "What would you like to check\n",
            "1. Palindrome\n",
            "2. Anagram\n",
            "3. Both:\n",
            " 4\n",
            "Bad Input! Terminating the loop\n"
          ],
          "name": "stdout"
        }
      ]
    },
    {
      "cell_type": "markdown",
      "metadata": {
        "id": "J4mGzZXdNzKc",
        "colab_type": "text"
      },
      "source": [
        "### **Question 4:**\n",
        "Write a Python's user defined function that removes all the additional characters from the string\n",
        "and converts it finally to lower case using built-in lower(). eg: If the string is \"Dr. Darshan Ingle\n",
        "@AI-ML Trainer\", then the output be \"drdarshaningleaimltrainer\""
      ]
    },
    {
      "cell_type": "code",
      "metadata": {
        "id": "BrvQnMPQOpKZ",
        "colab_type": "code",
        "colab": {
          "base_uri": "https://localhost:8080/",
          "height": 0
        },
        "outputId": "6ed853d4-b3e3-4010-fd9b-3fef72a548df"
      },
      "source": [
        "#Method 1:\n",
        "def removeAddChar(user_string):\n",
        "  characters_to_remove = \" !@#-$%&*+.\"\n",
        "  for char in characters_to_remove:\n",
        "    if char in user_string:\n",
        "      user_string = user_string.lower().replace(char, \"\")\n",
        "  print(\"Refined string after removing additional characters: \", user_string)\n",
        "\n",
        "user_string = input(\"Enter the string to refine: \")\n",
        "removeAddChar(user_string)"
      ],
      "execution_count": 194,
      "outputs": [
        {
          "output_type": "stream",
          "text": [
            "Enter the string to refine: Dr. Darshan Ingle @AI-ML Trainer\n",
            "Refined string after removing additional characters:  drdarshaningleaimltrainer\n"
          ],
          "name": "stdout"
        }
      ]
    },
    {
      "cell_type": "code",
      "metadata": {
        "id": "IIRQjXkdPeks",
        "colab_type": "code",
        "colab": {
          "base_uri": "https://localhost:8080/",
          "height": 0
        },
        "outputId": "8aad7033-cde7-477e-fb6a-fbcd59cacdab"
      },
      "source": [
        "#Method 2:\n",
        "def replacerChar(user_string):\n",
        "  new_string = \"\"\n",
        "  for char in user_string:\n",
        "    if char.isalnum():\n",
        "      new_string = new_string + char.lower()\n",
        "  print(\"Refined string after removing all additional characters: \", new_string)\n",
        "\n",
        "user_string = input(\"Enter the string to refine:\\n \")\n",
        "replacerChar(user_string)\n"
      ],
      "execution_count": 193,
      "outputs": [
        {
          "output_type": "stream",
          "text": [
            "Enter the string to refine:\n",
            " $sh@anmUKe$sw@ar TATA @ Jk!!\n",
            "Refined string after removing all additional characters:  shanmukeswartatajk\n"
          ],
          "name": "stdout"
        }
      ]
    },
    {
      "cell_type": "code",
      "metadata": {
        "id": "Yyw-a-vR3pQ1",
        "colab_type": "code",
        "colab": {
          "base_uri": "https://localhost:8080/",
          "height": 0
        },
        "outputId": "f314aedd-919f-4c4c-80dc-5f29e820c5c4"
      },
      "source": [
        "#Method 3:\n",
        "def addtnReplace(str1):\n",
        "  for i in str1:\n",
        "    if not(i.isalpha()):\n",
        "      str1 = str1.replace(i, \"\")\n",
        "  print(\"Refined string after removing additional characters: \", str1)\n",
        "\n",
        "user_string = input(\"Enter the string to refine:\\n \")\n",
        "replacerChar(user_string)"
      ],
      "execution_count": 195,
      "outputs": [
        {
          "output_type": "stream",
          "text": [
            "Enter the string to refine:\n",
            " PYthon is$ @an !inTREpreter L-a-nguage@#!\n",
            "Refined string after removing all additional characters:  pythonisanintrepreterlanguage\n"
          ],
          "name": "stdout"
        }
      ]
    }
  ]
}
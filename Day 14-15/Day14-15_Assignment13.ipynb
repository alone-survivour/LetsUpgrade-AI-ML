{
 "cells": [
  {
   "cell_type": "code",
   "execution_count": 2,
   "metadata": {},
   "outputs": [],
   "source": [
    "#import required packages for this numpy exercise\n",
    "import numpy as np"
   ]
  },
  {
   "cell_type": "markdown",
   "metadata": {},
   "source": [
    "#### 1. Create a 3x3x3 array with random values"
   ]
  },
  {
   "cell_type": "code",
   "execution_count": 13,
   "metadata": {},
   "outputs": [
    {
     "name": "stdout",
     "output_type": "stream",
     "text": [
      "[[[0.92771557 0.7869898  0.01662198]\n",
      "  [0.95743238 0.02641067 0.57664606]\n",
      "  [0.87663034 0.88008381 0.76010221]]\n",
      "\n",
      " [[0.56070108 0.31037766 0.51988525]\n",
      "  [0.00625692 0.61899958 0.01243829]\n",
      "  [0.34127299 0.21229527 0.89220321]]\n",
      "\n",
      " [[0.44632044 0.27747062 0.06041538]\n",
      "  [0.08552869 0.09210196 0.19018752]\n",
      "  [0.32787047 0.83524735 0.62672569]]]\n"
     ]
    }
   ],
   "source": [
    "#Numpy built-in function random.rand takes dimensions as parameters and generate the array with given dimensions\n",
    "#Here we need 3X3X3 matrix. So giving the below command will generate the matrix\n",
    "print(np.random.rand(3,3,3))"
   ]
  },
  {
   "cell_type": "markdown",
   "metadata": {},
   "source": [
    "#### 2. Create a 5x5 matrix with values 1,2,3,4 just below the diagonal"
   ]
  },
  {
   "cell_type": "code",
   "execution_count": 17,
   "metadata": {},
   "outputs": [
    {
     "name": "stdout",
     "output_type": "stream",
     "text": [
      "[[0. 0. 0. 0. 0.]\n",
      " [0. 0. 0. 0. 0.]\n",
      " [0. 0. 0. 0. 0.]\n",
      " [0. 0. 0. 0. 0.]\n",
      " [0. 0. 0. 0. 0.]]\n"
     ]
    }
   ],
   "source": [
    "#lets create the array of 5X5 with full of zeros\n",
    "Z = np.zeros((5,5))\n",
    "print(Z)"
   ]
  },
  {
   "cell_type": "code",
   "execution_count": 60,
   "metadata": {},
   "outputs": [
    {
     "name": "stdout",
     "output_type": "stream",
     "text": [
      "[1 2 3 4]\n"
     ]
    }
   ],
   "source": [
    "#lets create another 1-d array from 0 to 3. np.arange function will sort this out. \n",
    "#This array is required to replace the elements of diagonal just below the main diagonal of matrix \n",
    "#with numbers 1,2,3,4.\n",
    "v = np.arange(4)\n",
    "\n",
    "#lets add the above 1-d array to number 1 and print the output\n",
    "v_upd = v + 1\n",
    "print(v_upd)"
   ]
  },
  {
   "cell_type": "code",
   "execution_count": 5,
   "metadata": {},
   "outputs": [
    {
     "name": "stdout",
     "output_type": "stream",
     "text": [
      "[[0 0 0 0 0]\n",
      " [1 0 0 0 0]\n",
      " [0 2 0 0 0]\n",
      " [0 0 3 0 0]\n",
      " [0 0 0 4 0]]\n"
     ]
    }
   ],
   "source": [
    "#using numpy's function np.diag(), we can replace the above 1-d array into that zero's matrix\n",
    "# np.diag() will take two parameters.\n",
    "# 1. v: If v is a 2-D array, return a copy of its k-th diagonal. If v is a 1-D array, return a 2-D array with v on the k-th diagonal.\n",
    "# 2. k: Diagonal in question. The default is 0.  k>0 for diagonals above the main diagonal, and k<0 for diagonals below the main diagonal.\n",
    "\n",
    "Z = np.diag(v_upd, k=-1) #k=-1, for elements just below the diagnoal and those elements are getting replaced with new array v_upd\n",
    "print(Z)"
   ]
  },
  {
   "cell_type": "markdown",
   "metadata": {},
   "source": [
    "#### 3.Create a 8x8 matrix and fill it with a checkerboard pattern"
   ]
  },
  {
   "cell_type": "code",
   "execution_count": 10,
   "metadata": {},
   "outputs": [
    {
     "name": "stdout",
     "output_type": "stream",
     "text": [
      "[[ 0  1  2  3  4  5  6  7]\n",
      " [ 8  9 10 11 12 13 14 15]\n",
      " [16 17 18 19 20 21 22 23]\n",
      " [24 25 26 27 28 29 30 31]\n",
      " [32 33 34 35 36 37 38 39]\n",
      " [40 41 42 43 44 45 46 47]\n",
      " [48 49 50 51 52 53 54 55]\n",
      " [56 57 58 59 60 61 62 63]]\n"
     ]
    }
   ],
   "source": [
    "# For moment of understanding, Let's create a 8X8 matrix using np.arange() function\n",
    "my_arr = np.arange(64).reshape(8,8) #reshape Gives a new shape to an array without changing its data\n",
    "print(my_arr)"
   ]
  },
  {
   "cell_type": "code",
   "execution_count": 11,
   "metadata": {},
   "outputs": [
    {
     "name": "stdout",
     "output_type": "stream",
     "text": [
      "[[ 8  9 10 11 12 13 14 15]\n",
      " [24 25 26 27 28 29 30 31]\n",
      " [40 41 42 43 44 45 46 47]\n",
      " [56 57 58 59 60 61 62 63]]\n"
     ]
    }
   ],
   "source": [
    "# Using slicing notation, we can grab the required rows and columns and fill it with desired values\n",
    "# Lets see what is the output when 1::2 slicing is applied on above matrix \n",
    "print(my_arr[1::2])"
   ]
  },
  {
   "cell_type": "code",
   "execution_count": 18,
   "metadata": {},
   "outputs": [
    {
     "name": "stdout",
     "output_type": "stream",
     "text": [
      "[[ 0  1  2  3  4  5  6  7]\n",
      " [16 17 18 19 20 21 22 23]\n",
      " [32 33 34 35 36 37 38 39]\n",
      " [48 49 50 51 52 53 54 55]]\n"
     ]
    }
   ],
   "source": [
    "# Its gave 1st, 3rd, 5th and 7th rows when 1::2 slicing is applied on above.\n",
    "# Lets see what ::2 slicing gives as an output\n",
    "print(my_arr[::2])"
   ]
  },
  {
   "cell_type": "code",
   "execution_count": 13,
   "metadata": {},
   "outputs": [
    {
     "name": "stdout",
     "output_type": "stream",
     "text": [
      "[[ 8 10 12 14]\n",
      " [24 26 28 30]\n",
      " [40 42 44 46]\n",
      " [56 58 60 62]]\n"
     ]
    }
   ],
   "source": [
    "#It produced 0th, 2nd, 4th and 6th rows\n",
    "# lets apply both slicing notations and see\n",
    "print(my_arr[1::2, ::2])"
   ]
  },
  {
   "cell_type": "code",
   "execution_count": 14,
   "metadata": {},
   "outputs": [
    {
     "name": "stdout",
     "output_type": "stream",
     "text": [
      "[[ 1  3  5  7]\n",
      " [17 19 21 23]\n",
      " [33 35 37 39]\n",
      " [49 51 53 55]]\n"
     ]
    }
   ],
   "source": [
    "# here 8 is from 1st row and 0th column(1,0), similarly 10,12,14 came from (1,2),(1,4) and (1,6)\n",
    "#lets see if we revers the slicing notations\n",
    "print(my_arr[::2, 1::2])"
   ]
  },
  {
   "cell_type": "code",
   "execution_count": 17,
   "metadata": {},
   "outputs": [
    {
     "name": "stdout",
     "output_type": "stream",
     "text": [
      "[[0. 1. 0. 1. 0. 1. 0. 1.]\n",
      " [1. 0. 1. 0. 1. 0. 1. 0.]\n",
      " [0. 1. 0. 1. 0. 1. 0. 1.]\n",
      " [1. 0. 1. 0. 1. 0. 1. 0.]\n",
      " [0. 1. 0. 1. 0. 1. 0. 1.]\n",
      " [1. 0. 1. 0. 1. 0. 1. 0.]\n",
      " [0. 1. 0. 1. 0. 1. 0. 1.]\n",
      " [1. 0. 1. 0. 1. 0. 1. 0.]]\n"
     ]
    }
   ],
   "source": [
    "#Now it is clear that 1::2 and ::2 is required slicing notations for checkerboard pattern\n",
    "#Lets create a function to repeat this task\n",
    "\n",
    "def checkerPattern(n):\n",
    "    \n",
    "    Z = np.zeros((n,n))\n",
    "    Z[1::2, ::2] = 1\n",
    "    Z[::2, 1::2] = 1\n",
    "    print(Z)\n",
    "\n",
    "checkerPattern(8)"
   ]
  },
  {
   "cell_type": "markdown",
   "metadata": {},
   "source": [
    "#### 4. Normalize a 5x5 random matrix"
   ]
  },
  {
   "cell_type": "code",
   "execution_count": 7,
   "metadata": {},
   "outputs": [
    {
     "name": "stdout",
     "output_type": "stream",
     "text": [
      "Original Array: \n",
      "\n",
      "[[0.61400411 0.27808597 0.31366132 0.51032121 0.41534103]\n",
      " [0.64761392 0.16229493 0.87861671 0.85117664 0.59288878]\n",
      " [0.04021083 0.98430388 0.72593409 0.86127077 0.08207169]\n",
      " [0.07086213 0.47307128 0.8361082  0.14569118 0.37708781]\n",
      " [0.97852401 0.81450936 0.66884676 0.14751251 0.20275144]]\n",
      "\n",
      "After normalization: \n",
      "\n",
      "[[-0.39222805 -0.74803846 -0.71035642 -0.50205079 -0.60265548]\n",
      " [-0.35662794 -0.87068637 -0.11194571 -0.14101072 -0.41459378]\n",
      " [-1.          0.         -0.27366984 -0.13031884 -0.95566024]\n",
      " [-0.96753361 -0.54150658 -0.15697148 -0.88827335 -0.64317396]\n",
      " [-0.00612213 -0.17984934 -0.33413774 -0.88634416 -0.82783412]]\n"
     ]
    }
   ],
   "source": [
    "# lets define a 5X5 array and assign it to a variable\n",
    "array = np.random.rand(5,5)\n",
    "print(\"Original Array: \")\n",
    "print()\n",
    "print(array)\n",
    "print()\n",
    "\n",
    "#compute the maximum and minimum values of above array \n",
    "#and assign it to variables xmax and xmin\n",
    "xmax, xmin = array.max(), array.min()\n",
    "\n",
    "#Now normalised form of an array is defined as an array \n",
    "#where dividing every entry in a vector by its magnitude to create a vector of length 1\n",
    "norm = (array - xmax)/(xmax - xmin) #normalised form\n",
    "\n",
    "\n",
    "#print the resultabs\n",
    "print(\"After normalization: \")\n",
    "print()\n",
    "print(norm)"
   ]
  },
  {
   "cell_type": "markdown",
   "metadata": {},
   "source": [
    "#### 5. How to find common values between two arrays?"
   ]
  },
  {
   "cell_type": "code",
   "execution_count": 31,
   "metadata": {},
   "outputs": [
    {
     "name": "stdout",
     "output_type": "stream",
     "text": [
      "Common values exist. Values are:\n",
      "\n",
      "[7, 8, 10]\n"
     ]
    }
   ],
   "source": [
    "#Lets create a function that accepts two arrays as arguments\n",
    "#The logic is such a way that the function should print true and values if common values are found in both arrays\n",
    "\n",
    "\n",
    "def commonChecker(a,b):\n",
    "    \n",
    "    cValues = [] #Defining an empty list so that whenever common values are found, value should be appended.\n",
    "    \n",
    "    for x in a:\n",
    "        if x in b:\n",
    "            cValues.append(x)\n",
    "    print(\"Common values exist. Values are:\\n\")\n",
    "    print(cValues)\n",
    "\n",
    "commonChecker(np.array([5,7,8,9,10]), np.array([7,10,15,8,47]))"
   ]
  },
  {
   "cell_type": "markdown",
   "metadata": {},
   "source": [
    "#### 6.How to get the dates of yesterday, today and tomorrow?"
   ]
  },
  {
   "cell_type": "code",
   "execution_count": 39,
   "metadata": {},
   "outputs": [
    {
     "name": "stdout",
     "output_type": "stream",
     "text": [
      "2020-07-25\n"
     ]
    }
   ],
   "source": [
    "#Numpy's in-built datetime and timedelta methods can help to sort this out\n",
    "\n",
    "#lets print today's date\n",
    "print(np.datetime64('today'))"
   ]
  },
  {
   "cell_type": "code",
   "execution_count": 35,
   "metadata": {},
   "outputs": [
    {
     "name": "stdout",
     "output_type": "stream",
     "text": [
      "1 generic time units\n"
     ]
    }
   ],
   "source": [
    "#timedelta function is used to print date by n units forward, backward.\n",
    "print(np.timedelta64(1))"
   ]
  },
  {
   "cell_type": "code",
   "execution_count": 36,
   "metadata": {},
   "outputs": [
    {
     "name": "stdout",
     "output_type": "stream",
     "text": [
      "2020-07-26\n"
     ]
    }
   ],
   "source": [
    "#To print tomorrow's date\n",
    "print(np.datetime64('today') + np.timedelta64(1))"
   ]
  },
  {
   "cell_type": "code",
   "execution_count": 37,
   "metadata": {},
   "outputs": [
    {
     "name": "stdout",
     "output_type": "stream",
     "text": [
      "2020-07-24\n"
     ]
    }
   ],
   "source": [
    "#To print yesterday's date\n",
    "print(np.datetime64('today') - np.timedelta64(1))"
   ]
  },
  {
   "cell_type": "code",
   "execution_count": 38,
   "metadata": {},
   "outputs": [
    {
     "name": "stdout",
     "output_type": "stream",
     "text": [
      "Yesterday's date:  2020-07-24\n",
      "Today'date:  2020-07-25\n",
      "Tomorrow's date:  2020-07-26\n"
     ]
    }
   ],
   "source": [
    "#so on combined notation\n",
    "#yesterday\n",
    "yesterday = np.datetime64('today') - np.timedelta64(1)\n",
    "print(\"Yesterday's date: \", yesterday)\n",
    "\n",
    "#today\n",
    "today = np.datetime64('today')\n",
    "print(\"Today'date: \", today)\n",
    "\n",
    "#tomorrow\n",
    "tomorrow = np.datetime64('today') + np.timedelta64(1)\n",
    "print(\"Tomorrow's date: \", tomorrow)"
   ]
  },
  {
   "cell_type": "markdown",
   "metadata": {},
   "source": [
    "#### 7. Consider two random array A and B, check if they are equal"
   ]
  },
  {
   "cell_type": "code",
   "execution_count": 22,
   "metadata": {},
   "outputs": [
    {
     "name": "stdout",
     "output_type": "stream",
     "text": [
      "Checking......\n",
      "Arrays are not equal\n"
     ]
    }
   ],
   "source": [
    "#We can use a function that accepts two array\n",
    "#the logic is to print true if element wise and length wise arrays are equal \n",
    "\n",
    "def arrayEqual(a,b, n, m):\n",
    "    \n",
    "    #check if lengths of both arrays are equal\n",
    "    if(n != m):\n",
    "        return False\n",
    "    \n",
    "    \n",
    "    #sort the arrays\n",
    "    a.sort()\n",
    "    b.sort()\n",
    "    \n",
    "    #Check if element wise arrays are equal \n",
    "    for i in range(0, n):\n",
    "        if(a[i] != b[i]):\n",
    "            return False\n",
    "    return True\n",
    "\n",
    "#Driver code\n",
    "a = np.array([8,7,1,5,3])\n",
    "b = np.array([4,2,7,5,8])\n",
    "n = len(a)\n",
    "m = len(b)\n",
    "\n",
    "#print success message if arrays are equal\n",
    "if (arrayEqual(a,b,m,n)):\n",
    "    print(\"Checking......\")\n",
    "    print(\"Arrays are equal!\")\n",
    "else:\n",
    "    print(\"Checking......\")\n",
    "    print(\"Arrays are not equal\")"
   ]
  },
  {
   "cell_type": "code",
   "execution_count": 20,
   "metadata": {},
   "outputs": [
    {
     "name": "stdout",
     "output_type": "stream",
     "text": [
      "Checking......\n",
      "Arrays are equal!\n"
     ]
    }
   ],
   "source": [
    "#driver code\n",
    "a = np.array([8,7,1,5,3])\n",
    "b = np.array([3,8,5,1,7])\n",
    "n = len(a)\n",
    "m = len(b)\n",
    "\n",
    "#print success message if arrays are equal\n",
    "if (arrayEqual(a,b,m,n)):\n",
    "    print(\"Checking......\")\n",
    "    print(\"Arrays are equal!\")\n",
    "else:\n",
    "    print(\"Checking......\")\n",
    "    print(\"Arrays are not equal\")"
   ]
  },
  {
   "cell_type": "markdown",
   "metadata": {},
   "source": [
    "#### 8. Create random vector of size 10 and replace the maximum value by 0"
   ]
  },
  {
   "cell_type": "code",
   "execution_count": 52,
   "metadata": {},
   "outputs": [
    {
     "name": "stdout",
     "output_type": "stream",
     "text": [
      "Original Array:\n",
      "\n",
      "[0.1675809  0.18440043 0.50581113 0.47745381 0.57170568 0.17013296\n",
      " 0.23356333 0.63957802 0.85026322 0.6228952 ]\n",
      "\n",
      "Array after doing replacement:\n",
      "\n",
      "[0.1675809  0.18440043 0.50581113 0.47745381 0.57170568 0.17013296\n",
      " 0.23356333 0.63957802 0.         0.6228952 ]\n"
     ]
    }
   ],
   "source": [
    "#lets create a function that replaces maximum value of array by 0.\n",
    "def replacerArray(a):\n",
    "    \n",
    "    #assign max element to variable\n",
    "    max_elem = max(a)\n",
    "    \n",
    "    #generate a  loop such that maximum value replaces with zero\n",
    "    for i in range(0, len(a)+1):\n",
    "        if max_elem == a[i]:\n",
    "            a[i] = 0\n",
    "            break\n",
    "    print(a)\n",
    "            \n",
    "#Driver code\n",
    "a = np.random.rand(10)\n",
    "\n",
    "#print the results before and after replacement\n",
    "print(\"Original Array:\\n\")\n",
    "print(a)\n",
    "print()\n",
    "print(\"Array after doing replacement:\\n\")\n",
    "replacerArray(a)"
   ]
  },
  {
   "cell_type": "markdown",
   "metadata": {},
   "source": [
    "#### 9. How to print all the values of an array?"
   ]
  },
  {
   "cell_type": "code",
   "execution_count": 58,
   "metadata": {},
   "outputs": [
    {
     "name": "stdout",
     "output_type": "stream",
     "text": [
      "Given array:\n",
      "\n",
      "[0.51088732 0.49000806 0.71243427 0.94613081 0.15147324 0.55387497\n",
      " 0.21173698 0.02637122 0.20770709 0.99946052]\n",
      "\n",
      "Values of an given array:\n",
      "\n",
      "0.5108873163194139,0.490008057066598,0.7124342691785842,0.946130809825234,0.15147324291181818,0.5538749726693832,0.21173698104898364,0.026371222741119027,0.20770709260085485,0.9994605173263724,"
     ]
    }
   ],
   "source": [
    "# lets create the function that prints all the values of an array\n",
    "def allValues(a):\n",
    "    \n",
    "    #generating a loop to print all values\n",
    "    print(\"Values of an given array:\\n\")\n",
    "    for x in a:\n",
    "        print(x, end=\",\")\n",
    "\n",
    "#driver code\n",
    "a = np.random.rand(10)\n",
    "\n",
    "#printing the results\n",
    "print(\"Given array:\\n\")\n",
    "print(a)\n",
    "print()\n",
    "allValues(a)"
   ]
  },
  {
   "cell_type": "markdown",
   "metadata": {},
   "source": [
    "#### 10.Subtract the mean of each row of a matrix"
   ]
  },
  {
   "cell_type": "code",
   "execution_count": 90,
   "metadata": {},
   "outputs": [
    {
     "name": "stdout",
     "output_type": "stream",
     "text": [
      "Given array:\n",
      "\n",
      "[[0.72065918 0.44048119 0.03465498 0.29907166]\n",
      " [0.72208985 0.64831286 0.62437448 0.99020172]\n",
      " [0.57993728 0.8647838  0.35706647 0.89455264]]\n",
      "\n",
      "Mean value of  [0.72065918 0.44048119 0.03465498 0.29907166] is:  0.37371675202115917\n",
      "Subtracting the  0.37371675202115917 from  [0.72065918 0.44048119 0.03465498 0.29907166] gives:\n",
      "[ 0.34694242  0.06676444 -0.33906177 -0.07464509]\n",
      "\n",
      "Mean value of  [0.72208985 0.64831286 0.62437448 0.99020172] is:  0.746244728142144\n",
      "Subtracting the  0.746244728142144 from  [0.72208985 0.64831286 0.62437448 0.99020172] gives:\n",
      "[-0.02415487 -0.09793187 -0.12187025  0.24395699]\n",
      "\n",
      "Mean value of  [0.57993728 0.8647838  0.35706647 0.89455264] is:  0.6740850451913366\n",
      "Subtracting the  0.6740850451913366 from  [0.57993728 0.8647838  0.35706647 0.89455264] gives:\n",
      "[-0.09414777  0.19069875 -0.31701858  0.2204676 ]\n",
      "\n",
      "After doing subtraction, matrix is:\n",
      "\n",
      "[ 0.34694242  0.06676444 -0.33906177 -0.07464509]\n",
      "[-0.02415487 -0.09793187 -0.12187025  0.24395699]\n",
      "[-0.09414777  0.19069875 -0.31701858  0.2204676 ]\n"
     ]
    }
   ],
   "source": [
    "#Lets create a function that computes the\n",
    "#subtraction of mean value of each row from its value\n",
    "\n",
    "def subtractMean(m,n):\n",
    "    #create an array using m and n values\n",
    "    _array = np.random.rand(m,n)\n",
    "    print(\"Given array:\\n\")\n",
    "    print(_array)\n",
    "    print()\n",
    "    \n",
    "    #generate loop that do subtraction of mean value of each row from matrix\n",
    "    for i in range(0, _array.shape[0]):\n",
    "        print(\"Mean value of \",_array[i],\"is: \", _array[i].mean())\n",
    "        print(\"Subtracting the \",_array[i].mean(), \"from \", _array[i], \"gives:\" )\n",
    "        print(_array[i] - _array[i].mean())\n",
    "        print()\n",
    "    \n",
    "    print(\"After doing subtraction, matrix is:\\n\")\n",
    "    for i in range(0, _array.shape[0]):\n",
    "        Y= _array[i] - _array[i].mean()\n",
    "        print(Y)\n",
    "\n",
    "\n",
    "subtractMean(3,4)"
   ]
  },
  {
   "cell_type": "markdown",
   "metadata": {},
   "source": [
    "#### 11.Consider a given vector, how to add 1 to each element indexed by a second vector (be careful with repeated indices)?"
   ]
  },
  {
   "cell_type": "code",
   "execution_count": 111,
   "metadata": {},
   "outputs": [
    {
     "name": "stdout",
     "output_type": "stream",
     "text": [
      "[3. 4. 6. 2. 1. 3. 2. 2. 5. 2.]\n"
     ]
    }
   ],
   "source": [
    "#Code Credits:Bartosz Telenczuk\n",
    "Z = np.ones(10)\n",
    "I = np.random.randint(0,len(Z),20)\n",
    "np.add.at(Z,I,1)\n",
    "print(Z)"
   ]
  },
  {
   "cell_type": "code",
   "execution_count": 6,
   "metadata": {},
   "outputs": [
    {
     "name": "stdout",
     "output_type": "stream",
     "text": [
      "Vector A taken from user:\n",
      " [1 4 4 5 4 3 1 2]\n",
      "\n",
      "Vector B which stores the indices of A:\n",
      " [0 3 1 2 0 0 0 1]\n",
      "\n",
      "After adding 1 at indices stored in b vector, the vector A becomes:\n",
      " [2 5 5 6 4 3 1 2]\n",
      "\n"
     ]
    }
   ],
   "source": [
    "#Create a function that adds one to the values of first vector which are indexed by second vector\n",
    "\n",
    "def helpingFunc(a):\n",
    "    #define the indices of 'a' vector\n",
    "    b = np.random.randint(a)\n",
    "    \n",
    "    #print the vectors created 'a' and 'b'\n",
    "    print(\"Vector A taken from user:\\n\", a)\n",
    "    print()\n",
    "    print(\"Vector B which stores the indices of A:\\n\", b)\n",
    "    print()\n",
    "    \n",
    "    #lets create an empty list\n",
    "    c=[] \n",
    "    \n",
    "    #Sort the 'b' vector \n",
    "    b.sort()\n",
    "    \n",
    "    #generate a loop that removes duplicates of 'b' vector\n",
    "    for x in b:\n",
    "        if x not in c:\n",
    "            c.append(x)\n",
    "    \n",
    "    #generate a loop that adds 1 to values of 'a' vector at indices stored in modified b vector\n",
    "    #which is list c\n",
    "    for y in c:\n",
    "        a[y] += 1\n",
    "    print(\"After adding 1 at indices stored in b vector, the vector A becomes:\\n\", a)\n",
    "    print()\n",
    "\n",
    "\n",
    "a = np.random.randint(1,8,8)\n",
    "helpingFunc(a)"
   ]
  },
  {
   "cell_type": "markdown",
   "metadata": {},
   "source": [
    "#### 12.How to get the diagonal of a dot product?"
   ]
  },
  {
   "cell_type": "code",
   "execution_count": 120,
   "metadata": {},
   "outputs": [
    {
     "name": "stdout",
     "output_type": "stream",
     "text": [
      "Matrix A:\n",
      "\n",
      "[[8 6 3]\n",
      " [7 2 8]\n",
      " [5 5 1]]\n",
      "Matrix B:\n",
      "\n",
      "[[1 0 4]\n",
      " [7 6 6]\n",
      " [6 1 1]]\n",
      "\n",
      "Dot product of above matrices is:\n",
      "\n",
      "[[68 39 71]\n",
      " [69 20 48]\n",
      " [46 31 51]]\n",
      "\n",
      "Diagonal:\n",
      " [68 20 51]\n",
      "\n"
     ]
    }
   ],
   "source": [
    "#lets create a function that generates dot product and produces the diagonal\n",
    "\n",
    "def diagDotProd(a,b):\n",
    "    \n",
    "    #Print the given array\n",
    "    print(\"Matrix A:\\n\")\n",
    "    print(a)\n",
    "    print(\"Matrix B:\\n\")\n",
    "    print(b)\n",
    "    print()\n",
    "    \n",
    "    \n",
    "    #Compute the dot product\n",
    "    c = np.dot(a,b)\n",
    "    print(\"Dot product of above matrices is:\\n\")\n",
    "    print(c)\n",
    "    print()\n",
    "    \n",
    "    #print the diagonal \n",
    "    k = np.diag(c)\n",
    "    print(\"Diagonal:\\n\", k)\n",
    "    print()\n",
    "    \n",
    "\n",
    "#driver code\n",
    "a = np.random.randint(0,10,(3,3)) \n",
    "b = np.random.randint(0,10,(3,3))\n",
    "\n",
    "#print the result\n",
    "diagDotProd(a,b)"
   ]
  },
  {
   "cell_type": "markdown",
   "metadata": {},
   "source": [
    "#### 13.How to find the most frequent value in an array?"
   ]
  },
  {
   "cell_type": "code",
   "execution_count": 143,
   "metadata": {},
   "outputs": [
    {
     "name": "stdout",
     "output_type": "stream",
     "text": [
      "Original array:\n",
      "[0 7 3 8 1 9 4 8 6 9 6 7 2 5 7 4 7 6 6 3 5 9 1 9 8 8 5 6 6 6 6 1 4 4 6 9 8\n",
      " 8 3 0]\n",
      "Most frequent value in the above array:\n",
      "6\n"
     ]
    }
   ],
   "source": [
    "#Define an array\n",
    "x = np.random.randint(0, 10, 40)\n",
    "\n",
    "#print the original arraya\n",
    "print(\"Original array:\")\n",
    "print(x)\n",
    "\n",
    "#print the most frequent array by using python in-built function np.bincount()\n",
    "#argmax() Returns the indices of the maximum values along an axis \n",
    "print(\"Most frequent value in the above array:\")\n",
    "print(np.bincount(x).argmax())"
   ]
  },
  {
   "cell_type": "markdown",
   "metadata": {},
   "source": [
    "#### 14.How to get the n largest values of an array"
   ]
  },
  {
   "cell_type": "code",
   "execution_count": 152,
   "metadata": {},
   "outputs": [
    {
     "name": "stdout",
     "output_type": "stream",
     "text": [
      "Original Array:\n",
      "\n",
      "[ 0  1  2  3  4  5  6  7  8  9 10 11 12 13 14 15 16 17 18 19]\n",
      "\n",
      "2 largest numbers of above array:\n",
      "\n",
      "[18 19]\n"
     ]
    }
   ],
   "source": [
    "#create a function that takes two parameters array and n value to print n largest values\n",
    "def nLargest(a, n):\n",
    "    \n",
    "    #print the given array  \n",
    "    print(\"Original Array:\\n\")\n",
    "    print(a)\n",
    "    print()\n",
    "    \n",
    "    #shuffling using np.shuffle() which shuffles the array along the first axis of a multi-dimensional array.\n",
    "    np.random.shuffle(a)\n",
    "    \n",
    "    #print the n largest values using argsort which returns an array of indices of the same shape as arr \n",
    "    #that that would sort the array\n",
    "    print(n, \"largest numbers of above array:\\n\")\n",
    "    print(a[np.argsort(a)[-n:]])\n",
    "    \n",
    "\n",
    "a = np.arange(20)\n",
    "n=2\n",
    "nLargest(a, n)"
   ]
  },
  {
   "cell_type": "markdown",
   "metadata": {},
   "source": [
    "#### 15. How to create a record array from a regular array?"
   ]
  },
  {
   "cell_type": "code",
   "execution_count": 153,
   "metadata": {},
   "outputs": [
    {
     "name": "stdout",
     "output_type": "stream",
     "text": [
      "Original arrays:\n",
      "[['Yasemin Rayner' '88.5' '90']\n",
      " ['Ayaana Mcnamara' '87' '99']\n",
      " ['Jody Preece' '85.5' '91']]\n",
      "\n",
      "Record array;\n",
      "[(b'Yasemin Rayner', 88.5, 90) (b'Ayaana Mcnamara', 87. , 99)\n",
      " (b'Jody Preece', 85.5, 91)]\n"
     ]
    }
   ],
   "source": [
    "#Code Credits: numpy documentation and w3resource\n",
    "arra1 = np.array([(\"Yasemin Rayner\", 88.5, 90),\n",
    "                 (\"Ayaana Mcnamara\", 87, 99),\n",
    "             (\"Jody Preece\", 85.5, 91)])\n",
    "print(\"Original arrays:\")\n",
    "print(arra1)\n",
    "print(\"\\nRecord array;\")\n",
    "result = np.core.records.fromarrays(arra1.T,\n",
    "                              names='col1, col2, col3',\n",
    "                              formats = 'S80, f8, i8')\n",
    "print(result)"
   ]
  }
 ],
 "metadata": {
  "kernelspec": {
   "display_name": "Python 3",
   "language": "python",
   "name": "python3"
  },
  "language_info": {
   "codemirror_mode": {
    "name": "ipython",
    "version": 3
   },
   "file_extension": ".py",
   "mimetype": "text/x-python",
   "name": "python",
   "nbconvert_exporter": "python",
   "pygments_lexer": "ipython3",
   "version": "3.7.6"
  }
 },
 "nbformat": 4,
 "nbformat_minor": 4
}

{
  "nbformat": 4,
  "nbformat_minor": 0,
  "metadata": {
    "colab": {
      "name": "Assignment4_Day6.ipynb",
      "provenance": [],
      "collapsed_sections": []
    },
    "kernelspec": {
      "name": "python3",
      "display_name": "Python 3"
    }
  },
  "cells": [
    {
      "cell_type": "markdown",
      "metadata": {
        "id": "4PrlofI8J2rW",
        "colab_type": "text"
      },
      "source": [
        "### **Question 1:** <br>\n",
        "Assuming that we have some email addresses in the \"username@companyname.com\" format, please write program\n",
        "to print the company name of a given email address. Both user names and company names are composed of letters\n",
        "only. <br>\n",
        "\n",
        "Input Format: <br>\n",
        "The first line of the input contains an email address.<br>\n",
        "Output Format:<br>\n",
        "Print the company name in single line.<br>\n",
        "<br>\n",
        "Example: <br>\n",
        "Input: <br>\n",
        "john@google.com <br>\n",
        "Output: <br>\n",
        "google <br>\n"
      ]
    },
    {
      "cell_type": "markdown",
      "metadata": {
        "id": "My2Y4a8FK09I",
        "colab_type": "text"
      },
      "source": [
        "**Before starting the problem, we have given a condition that both username and company names should be in alphabets. So we first ensure the validity condition of input given by user must be in username@companyname.com format. So we write the code in such a way that the companyname will be printed out as an output only when the input given by user is in above format(username@companyname.com)**"
      ]
    },
    {
      "cell_type": "code",
      "metadata": {
        "id": "J1sC53hhwHU7",
        "colab_type": "code",
        "colab": {
          "base_uri": "https://localhost:8080/",
          "height": 340
        },
        "outputId": "2902c49a-a2ec-4639-aa6a-bafef1f9e03d"
      },
      "source": [
        "while True:\n",
        "  email_input = input(\"Enter the email address:\\n\")\n",
        "  if not ('@' in email_input and '.' in email_input):\n",
        "    print(\"Invalid input given! Must be in 'username@companyname.com' format\")\n",
        "    print()\n",
        "  elif not (email_input.split('@')[0].isalpha() and email_input.split('@')[1].split('.')[0].isalpha()):\n",
        "    print(\"Username and companyname should have only alphabets. 'username@companyname.com' is valid\")\n",
        "    print()\n",
        "  else:\n",
        "    domain = email_input.split('@')[1].split('.')[0]\n",
        "    print(\"Company name is: \", domain)\n",
        "    break"
      ],
      "execution_count": 1,
      "outputs": [
        {
          "output_type": "stream",
          "text": [
            "Enter the email address:\n",
            "user@com\n",
            "Invalid input given! Must be in 'username@companyname.com' format\n",
            "\n",
            "Enter the email address:\n",
            "user.com\n",
            "Invalid input given! Must be in 'username@companyname.com' format\n",
            "\n",
            "Enter the email address:\n",
            "john97@google.com\n",
            "Username and companyname should have only alphabets. 'username@companyname.com' is valid\n",
            "\n",
            "Enter the email address:\n",
            "john_george@yahoo.com\n",
            "Username and companyname should have only alphabets. 'username@companyname.com' is valid\n",
            "\n",
            "Enter the email address:\n",
            "holmark@hotmail.com\n",
            "Company name is:  hotmail\n"
          ],
          "name": "stdout"
        }
      ]
    },
    {
      "cell_type": "markdown",
      "metadata": {
        "id": "9Q9RcIZWL40i",
        "colab_type": "text"
      },
      "source": [
        "### **Question 2:** <br>\n",
        "\n",
        "Write a program that accepts a comma-separated sequence of words as input and prints the words in a comma separated sequence after sorting them alphabetically.<br>\n",
        "\n",
        "Input Format:<br>\n",
        "The first line of input contains words separated by the comma.<br>\n",
        "Output Format:<br>\n",
        "Print the sorted words separated by the comma.<br>\n",
        "Example:<br>\n",
        "Input:<br>\n",
        "without,hello,bag,world<br>\n",
        "Output:<br>\n",
        "bag,hello,without,world<br>"
      ]
    },
    {
      "cell_type": "code",
      "metadata": {
        "id": "P7mYLRD4wkgA",
        "colab_type": "code",
        "colab": {
          "base_uri": "https://localhost:8080/",
          "height": 170
        },
        "outputId": "252aab23-45a7-48f7-9b61-108ff168db89"
      },
      "source": [
        "while True:\n",
        "  items_list = input(\"Enter the comma-seperated words list:\\n\")\n",
        "  if not (',' in items_list):\n",
        "    print(\"Invalid input! words should be given with comma-seperated\")\n",
        "    print()\n",
        "  else:\n",
        "    words = []\n",
        "    for word in items_list.split(','):\n",
        "      words.append(word)\n",
        "    print(\"Words after sorting alphabetically:\")\n",
        "    print(\",\".join(sorted(list(set(words)))))\n",
        "    print()\n",
        "    break"
      ],
      "execution_count": 2,
      "outputs": [
        {
          "output_type": "stream",
          "text": [
            "Enter the comma-seperated words list:\n",
            "white horse jack king\n",
            "Invalid input! words should be given with comma-seperated\n",
            "\n",
            "Enter the comma-seperated words list:\n",
            "mango,hello,world,bag\n",
            "Words after sorting alphabetically:\n",
            "bag,hello,mango,world\n",
            "\n"
          ],
          "name": "stdout"
        }
      ]
    },
    {
      "cell_type": "markdown",
      "metadata": {
        "id": "KuC6kXhaw3HG",
        "colab_type": "text"
      },
      "source": [
        ""
      ]
    },
    {
      "cell_type": "markdown",
      "metadata": {
        "colab_type": "text",
        "id": "K4rUiBAIw8nJ"
      },
      "source": [
        "### **Question 3:** <br>\n",
        "Create your own Jupyter Notebook for Sets. <br>\n",
        "Reference link: https://www.w3schools.com/python/python_sets.asp <br>"
      ]
    },
    {
      "cell_type": "markdown",
      "metadata": {
        "colab_type": "text",
        "id": "2qDph9dYw8nM"
      },
      "source": [
        "**Definition:** <br>\n",
        "A set is a collection which is unordered and unindexed. In Python sets are written with curly brackets."
      ]
    },
    {
      "cell_type": "code",
      "metadata": {
        "colab_type": "code",
        "id": "UU9EAMMWw8nO",
        "colab": {
          "base_uri": "https://localhost:8080/",
          "height": 34
        },
        "outputId": "f614567b-33d2-4aa1-e8b8-42a9f0c262b0"
      },
      "source": [
        "thisset = {\"apple\", \"banana\", \"cherry\"}\n",
        "print(thisset)"
      ],
      "execution_count": 3,
      "outputs": [
        {
          "output_type": "stream",
          "text": [
            "{'banana', 'apple', 'cherry'}\n"
          ],
          "name": "stdout"
        }
      ]
    },
    {
      "cell_type": "markdown",
      "metadata": {
        "colab_type": "text",
        "id": "iSerR0rIw8nX"
      },
      "source": [
        "**Access Items** <br>\n",
        "You cannot access items in a set by referring to an index, since sets are unordered the items has no index. <br>\n",
        "\n",
        "But you can loop through the set items using a for loop, or ask if a specified value is present in a set, by using the in keyword. <br>"
      ]
    },
    {
      "cell_type": "code",
      "metadata": {
        "colab_type": "code",
        "id": "t7ZFKKfCw8nZ",
        "colab": {
          "base_uri": "https://localhost:8080/",
          "height": 68
        },
        "outputId": "947aa019-fa07-4a67-ccdf-311dfcf26134"
      },
      "source": [
        "thisset = {\"apple\", \"banana\", \"cherry\"}\n",
        "\n",
        "for x in thisset:\n",
        "  print(x)"
      ],
      "execution_count": 4,
      "outputs": [
        {
          "output_type": "stream",
          "text": [
            "banana\n",
            "apple\n",
            "cherry\n"
          ],
          "name": "stdout"
        }
      ]
    },
    {
      "cell_type": "markdown",
      "metadata": {
        "colab_type": "text",
        "id": "hlK_HAuXw8nj"
      },
      "source": [
        "**Add Items** <br>\n",
        "To add one item to a set use the add() method. <br>\n",
        "\n",
        "To add more than one item to a set use the update() method.<br>"
      ]
    },
    {
      "cell_type": "code",
      "metadata": {
        "colab_type": "code",
        "id": "e5aHzvZHw8nm",
        "colab": {
          "base_uri": "https://localhost:8080/",
          "height": 34
        },
        "outputId": "96b3b510-4257-4e01-8ee6-a7f6d221a596"
      },
      "source": [
        "thisset = {\"apple\", \"banana\", \"cherry\"}\n",
        "thisset.add(\"orange\")\n",
        "print(thisset)"
      ],
      "execution_count": 5,
      "outputs": [
        {
          "output_type": "stream",
          "text": [
            "{'banana', 'orange', 'apple', 'cherry'}\n"
          ],
          "name": "stdout"
        }
      ]
    },
    {
      "cell_type": "code",
      "metadata": {
        "colab_type": "code",
        "id": "zunlr2lhw8nx",
        "colab": {
          "base_uri": "https://localhost:8080/",
          "height": 34
        },
        "outputId": "4eb05da4-6baa-41d6-bd7f-d16afc89b93f"
      },
      "source": [
        "thisset = {\"apple\", \"banana\", \"cherry\"}\n",
        "\n",
        "thisset.update([\"orange\", \"mango\", \"grapes\"])\n",
        "\n",
        "print(thisset)"
      ],
      "execution_count": 6,
      "outputs": [
        {
          "output_type": "stream",
          "text": [
            "{'grapes', 'apple', 'orange', 'cherry', 'banana', 'mango'}\n"
          ],
          "name": "stdout"
        }
      ]
    },
    {
      "cell_type": "markdown",
      "metadata": {
        "colab_type": "text",
        "id": "g2Q6kKZSw8n5"
      },
      "source": [
        "**Get the Length of a Set** <br>\n",
        "To determine how many items a set has, use the len() method."
      ]
    },
    {
      "cell_type": "code",
      "metadata": {
        "colab_type": "code",
        "id": "tjlDfSfcw8n7",
        "colab": {
          "base_uri": "https://localhost:8080/",
          "height": 34
        },
        "outputId": "1aa4d26d-8329-483a-aaf5-a8a59098eb7d"
      },
      "source": [
        "thisset = {\"apple\", \"banana\", \"cherry\"}\n",
        "\n",
        "print(len(thisset))"
      ],
      "execution_count": 7,
      "outputs": [
        {
          "output_type": "stream",
          "text": [
            "3\n"
          ],
          "name": "stdout"
        }
      ]
    },
    {
      "cell_type": "markdown",
      "metadata": {
        "colab_type": "text",
        "id": "FKQo9viBw8oE"
      },
      "source": [
        "**Remove Item** <br>\n",
        "To remove an item in a set, use the remove(), or the discard() method."
      ]
    },
    {
      "cell_type": "code",
      "metadata": {
        "colab_type": "code",
        "id": "3WINR6JPw8oG",
        "colab": {
          "base_uri": "https://localhost:8080/",
          "height": 34
        },
        "outputId": "0539ea72-7ff7-48a6-a92d-40cb7ea062a9"
      },
      "source": [
        "thisset = {\"apple\", \"banana\", \"cherry\"}\n",
        "\n",
        "thisset.remove(\"banana\")\n",
        "\n",
        "print(thisset)"
      ],
      "execution_count": 8,
      "outputs": [
        {
          "output_type": "stream",
          "text": [
            "{'apple', 'cherry'}\n"
          ],
          "name": "stdout"
        }
      ]
    },
    {
      "cell_type": "code",
      "metadata": {
        "colab_type": "code",
        "id": "GtFUmZrEw8oN",
        "colab": {
          "base_uri": "https://localhost:8080/",
          "height": 34
        },
        "outputId": "d97cae0f-d934-4a52-c441-b8befb5c2957"
      },
      "source": [
        "thisset = {\"apple\", \"banana\", \"cherry\"}\n",
        "\n",
        "thisset.discard(\"banana\")\n",
        "\n",
        "print(thisset)"
      ],
      "execution_count": 9,
      "outputs": [
        {
          "output_type": "stream",
          "text": [
            "{'apple', 'cherry'}\n"
          ],
          "name": "stdout"
        }
      ]
    },
    {
      "cell_type": "markdown",
      "metadata": {
        "colab_type": "text",
        "id": "8ga9DjFgw8oU"
      },
      "source": [
        "**Note:** <br>\n",
        "If the item to remove does not exist, remove() will raise an error.<br>\n",
        "If the item to remove does not exist, discard() will NOT raise an error."
      ]
    },
    {
      "cell_type": "markdown",
      "metadata": {
        "colab_type": "text",
        "id": "8GNZoBDNw8oY"
      },
      "source": [
        "You can also use the pop(), method to remove an item, but this method will remove the last item. Remember that sets are unordered, so you will not know what item that gets removed.<br>\n",
        "\n",
        "The return value of the pop() method is the removed item.<br>\n",
        "\n",
        "**Note:**\n",
        "Sets are unordered, so when using the pop() method, you will not know which item that gets removed."
      ]
    },
    {
      "cell_type": "code",
      "metadata": {
        "colab_type": "code",
        "id": "FmUULkiew8oa",
        "colab": {
          "base_uri": "https://localhost:8080/",
          "height": 51
        },
        "outputId": "3a4e1f8c-14f9-4ec6-8250-0afb5d35a1f0"
      },
      "source": [
        "thisset = {\"apple\", \"banana\", \"cherry\"}\n",
        "\n",
        "x = thisset.pop()\n",
        "\n",
        "print(x)\n",
        "\n",
        "print(thisset)"
      ],
      "execution_count": 18,
      "outputs": [
        {
          "output_type": "stream",
          "text": [
            "banana\n",
            "{'apple', 'cherry'}\n"
          ],
          "name": "stdout"
        }
      ]
    },
    {
      "cell_type": "markdown",
      "metadata": {
        "colab_type": "text",
        "id": "oIEiZTmiw8oi"
      },
      "source": [
        "The del keyword will delete the set completely:"
      ]
    },
    {
      "cell_type": "code",
      "metadata": {
        "colab_type": "code",
        "id": "_91VRAHXw8oj",
        "colab": {
          "base_uri": "https://localhost:8080/",
          "height": 197
        },
        "outputId": "c7b4082a-5b68-424e-c8c2-e8af08b26290"
      },
      "source": [
        "thisset = {\"apple\", \"banana\", \"cherry\"}\n",
        "\n",
        "del thisset\n",
        "\n",
        "print(thisset)"
      ],
      "execution_count": null,
      "outputs": [
        {
          "output_type": "error",
          "ename": "NameError",
          "evalue": "ignored",
          "traceback": [
            "\u001b[0;31m---------------------------------------------------------------------------\u001b[0m",
            "\u001b[0;31mNameError\u001b[0m                                 Traceback (most recent call last)",
            "\u001b[0;32m<ipython-input-82-b0ed94c1bb6f>\u001b[0m in \u001b[0;36m<module>\u001b[0;34m()\u001b[0m\n\u001b[1;32m      3\u001b[0m \u001b[0;32mdel\u001b[0m \u001b[0mthisset\u001b[0m\u001b[0;34m\u001b[0m\u001b[0;34m\u001b[0m\u001b[0m\n\u001b[1;32m      4\u001b[0m \u001b[0;34m\u001b[0m\u001b[0m\n\u001b[0;32m----> 5\u001b[0;31m \u001b[0mprint\u001b[0m\u001b[0;34m(\u001b[0m\u001b[0mthisset\u001b[0m\u001b[0;34m)\u001b[0m\u001b[0;34m\u001b[0m\u001b[0;34m\u001b[0m\u001b[0m\n\u001b[0m",
            "\u001b[0;31mNameError\u001b[0m: name 'thisset' is not defined"
          ]
        }
      ]
    },
    {
      "cell_type": "markdown",
      "metadata": {
        "colab_type": "text",
        "id": "5T31vDQqw8os"
      },
      "source": [
        "**Join Two Sets**<br>\n",
        "There are several ways to join two or more sets in Python.<br>\n",
        "\n",
        "You can use the union() method that returns a new set containing all items from both sets, or the update() method that inserts all the items from one set into another:<br>"
      ]
    },
    {
      "cell_type": "code",
      "metadata": {
        "colab_type": "code",
        "id": "X6euIDtiw8ot",
        "colab": {
          "base_uri": "https://localhost:8080/",
          "height": 34
        },
        "outputId": "498863b4-927d-4e2a-abad-33685608fb82"
      },
      "source": [
        "set1 = {\"a\", \"b\" , \"c\"}\n",
        "set2 = {1, 2, 3}\n",
        "\n",
        "set3 = set1.union(set2)\n",
        "print(set3)"
      ],
      "execution_count": 17,
      "outputs": [
        {
          "output_type": "stream",
          "text": [
            "{1, 2, 3, 'b', 'a', 'c'}\n"
          ],
          "name": "stdout"
        }
      ]
    },
    {
      "cell_type": "markdown",
      "metadata": {
        "colab_type": "text",
        "id": "lroxtclxw8o0"
      },
      "source": [
        "The update() method inserts the items in set2 into set1:"
      ]
    },
    {
      "cell_type": "code",
      "metadata": {
        "colab_type": "code",
        "id": "Z3kxeZ29w8o2",
        "colab": {
          "base_uri": "https://localhost:8080/",
          "height": 34
        },
        "outputId": "7d5d2173-9427-49bb-ab2a-00b938225755"
      },
      "source": [
        "set1 = {\"a\", \"b\" , \"c\"}\n",
        "set2 = {1, 2, 3}\n",
        "\n",
        "set1.update(set2)\n",
        "print(set1)"
      ],
      "execution_count": 16,
      "outputs": [
        {
          "output_type": "stream",
          "text": [
            "{1, 2, 3, 'b', 'a', 'c'}\n"
          ],
          "name": "stdout"
        }
      ]
    },
    {
      "cell_type": "markdown",
      "metadata": {
        "colab_type": "text",
        "id": "n_X8StP2w8qx"
      },
      "source": [
        "` **Both union() and update() will exclude any duplicate items.**"
      ]
    },
    {
      "cell_type": "markdown",
      "metadata": {
        "colab_type": "text",
        "id": "F-sDRNGmw8q1"
      },
      "source": [
        "**copy()** <br>\n",
        "The copy() method copies the set."
      ]
    },
    {
      "cell_type": "code",
      "metadata": {
        "colab_type": "code",
        "id": "r_G0nWWZw8q2",
        "colab": {
          "base_uri": "https://localhost:8080/",
          "height": 34
        },
        "outputId": "a2197322-ee5a-41f6-d9a5-4eaedf088793"
      },
      "source": [
        "fruits = {\"apple\", \"banana\", \"cherry\"}\n",
        "\n",
        "x = fruits.copy()\n",
        "\n",
        "print(x)"
      ],
      "execution_count": 15,
      "outputs": [
        {
          "output_type": "stream",
          "text": [
            "{'banana', 'apple', 'cherry'}\n"
          ],
          "name": "stdout"
        }
      ]
    },
    {
      "cell_type": "markdown",
      "metadata": {
        "colab_type": "text",
        "id": "5Vd0rcAJw8rB"
      },
      "source": [
        "**Python Set difference() Method** <br>\n",
        "Return a set that contains the items that only exist in set x, and not in set y:\n"
      ]
    },
    {
      "cell_type": "code",
      "metadata": {
        "colab_type": "code",
        "id": "9vS3fLS2w8rC",
        "colab": {
          "base_uri": "https://localhost:8080/",
          "height": 34
        },
        "outputId": "d84dfb1e-4f28-4397-b14f-8e4441def9be"
      },
      "source": [
        "x = {\"apple\", \"banana\", \"cherry\"}\n",
        "y = {\"google\", \"microsoft\", \"apple\"}\n",
        "\n",
        "z = x.difference(y)\n",
        "\n",
        "print(z)"
      ],
      "execution_count": 14,
      "outputs": [
        {
          "output_type": "stream",
          "text": [
            "{'cherry', 'banana'}\n"
          ],
          "name": "stdout"
        }
      ]
    },
    {
      "cell_type": "markdown",
      "metadata": {
        "colab_type": "text",
        "id": "70pGWxBJw8rJ"
      },
      "source": [
        "**Python Set intersection() Method** <br>\n",
        "Return a set that contains the items that exist in both set x, and set y:"
      ]
    },
    {
      "cell_type": "code",
      "metadata": {
        "colab_type": "code",
        "id": "fE7FYdsIw8rK",
        "colab": {
          "base_uri": "https://localhost:8080/",
          "height": 34
        },
        "outputId": "f3c6d9c2-051f-4d7e-84c9-77dcc7c8cfdd"
      },
      "source": [
        "x = {\"apple\", \"banana\", \"cherry\"}\n",
        "y = {\"google\", \"microsoft\", \"apple\"}\n",
        "\n",
        "z = x.intersection(y)\n",
        "\n",
        "print(z)"
      ],
      "execution_count": null,
      "outputs": [
        {
          "output_type": "stream",
          "text": [
            "{'apple'}\n"
          ],
          "name": "stdout"
        }
      ]
    },
    {
      "cell_type": "markdown",
      "metadata": {
        "colab_type": "text",
        "id": "4OkJRSlCw8rU"
      },
      "source": [
        "**Python Set difference_update() Method**<br>\n",
        "Remove the items that exist in both sets:"
      ]
    },
    {
      "cell_type": "code",
      "metadata": {
        "colab_type": "code",
        "id": "A6aGW-rlw8rV",
        "colab": {
          "base_uri": "https://localhost:8080/",
          "height": 34
        },
        "outputId": "78a611d9-812b-4e58-8f66-395ad4521fcf"
      },
      "source": [
        "x = {\"apple\", \"banana\", \"cherry\"}\n",
        "y = {\"google\", \"microsoft\", \"apple\"}\n",
        "\n",
        "x.difference_update(y)\n",
        "\n",
        "print(x)"
      ],
      "execution_count": 13,
      "outputs": [
        {
          "output_type": "stream",
          "text": [
            "{'banana', 'cherry'}\n"
          ],
          "name": "stdout"
        }
      ]
    },
    {
      "cell_type": "markdown",
      "metadata": {
        "colab_type": "text",
        "id": "ApDbxKcrw8rg"
      },
      "source": [
        "**Python Set symmetric_difference() Method** <br>\n",
        "Return a set that contains all items from both sets, except items that are present in both sets:\n",
        "\n"
      ]
    },
    {
      "cell_type": "code",
      "metadata": {
        "colab_type": "code",
        "id": "egkyEHSgw8rj",
        "colab": {
          "base_uri": "https://localhost:8080/",
          "height": 34
        },
        "outputId": "198733d6-104d-49b5-fcd4-418e6c654ab2"
      },
      "source": [
        "x = {\"apple\", \"banana\", \"cherry\"}\n",
        "y = {\"google\", \"microsoft\", \"apple\"}\n",
        "\n",
        "\n",
        "z = x.symmetric_difference(y)\n",
        "\n",
        "print(z)"
      ],
      "execution_count": 12,
      "outputs": [
        {
          "output_type": "stream",
          "text": [
            "{'banana', 'microsoft', 'cherry', 'google'}\n"
          ],
          "name": "stdout"
        }
      ]
    },
    {
      "cell_type": "markdown",
      "metadata": {
        "colab_type": "text",
        "id": "FQKlmt5Pw8rr"
      },
      "source": [
        "**Python Set issubset() Method** <br>\n",
        "Return True if all items set x are present in set y:\n",
        "\n"
      ]
    },
    {
      "cell_type": "code",
      "metadata": {
        "colab_type": "code",
        "id": "Fbszrs2fw8rs",
        "colab": {
          "base_uri": "https://localhost:8080/",
          "height": 34
        },
        "outputId": "632a9664-3cb7-488d-a316-16b268becac7"
      },
      "source": [
        "x = {\"a\", \"b\", \"c\"}\n",
        "y = {\"f\", \"e\", \"d\", \"c\", \"b\", \"a\"}\n",
        "\n",
        "z = x.issubset(y)\n",
        "\n",
        "print(z)"
      ],
      "execution_count": 11,
      "outputs": [
        {
          "output_type": "stream",
          "text": [
            "True\n"
          ],
          "name": "stdout"
        }
      ]
    },
    {
      "cell_type": "markdown",
      "metadata": {
        "colab_type": "text",
        "id": "x_Hg9wXuw8r3"
      },
      "source": [
        "**Python Set issuperset() Method** <br>\n",
        "Return True if all items set y are present in set x:\n",
        "\n"
      ]
    },
    {
      "cell_type": "code",
      "metadata": {
        "colab_type": "code",
        "id": "h2n2XTJRw8r4",
        "colab": {
          "base_uri": "https://localhost:8080/",
          "height": 34
        },
        "outputId": "f232cfd1-ff4e-4b21-8dc2-ebaba2670f20"
      },
      "source": [
        "x = {\"f\", \"e\", \"d\", \"c\", \"b\", \"a\"}\n",
        "y = {\"a\", \"b\", \"c\"}\n",
        "\n",
        "z = x.issuperset(y)\n",
        "\n",
        "print(z)"
      ],
      "execution_count": 10,
      "outputs": [
        {
          "output_type": "stream",
          "text": [
            "True\n"
          ],
          "name": "stdout"
        }
      ]
    },
    {
      "cell_type": "markdown",
      "metadata": {
        "id": "zXp6plaInwwF",
        "colab_type": "text"
      },
      "source": [
        "### **Question 4:** <br>\n",
        "Given a list of n-1 numbers ranging from 1 to n, your task is to find the missing number. There are no duplicates. <br>\n",
        "\n",
        "Input Format: <br>\n",
        "The first line contains n-1 numbers with each number separated by a space.<br>\n",
        "Output Format: <br>\n",
        "Print the missing number <br>\n",
        "Example:<br>\n",
        "Input:1 2 4 6 3 7 8<br>\n",
        "Output:5<br><br>\n",
        "Explanation:<br>\n",
        "In the above list of numbers 5 is missing and hence 5 is the input"
      ]
    },
    {
      "cell_type": "code",
      "metadata": {
        "id": "rFfqfspQjL31",
        "colab_type": "code",
        "colab": {
          "base_uri": "https://localhost:8080/",
          "height": 221
        },
        "outputId": "00c292a8-9da9-452b-e5c8-edaaba511851"
      },
      "source": [
        "while True:\n",
        "  _user = input(\"Enter the number series to find missing number:\\n\")\n",
        "  _n = _user.split(\" \")\n",
        "  _nints = list(map(lambda x: int(x), _n))\n",
        "  missed_num = []\n",
        "  setNums = set(_nints)\n",
        "\n",
        "  if len(_nints) != len(setNums):\n",
        "    print(\"Given sequence has duplicates!\")\n",
        "    print()\n",
        "  elif sorted(_nints) == sorted(list(range(_nints[0], _nints[-1]+1))):\n",
        "    print(\"Sequence given has no missing number!\")\n",
        "    print()\n",
        "  else:\n",
        "    for x in range(_nints[0], _nints[-1]+1):\n",
        "      if x not in _nints:\n",
        "        missed_num.append(x)\n",
        "    missed_num = list(map(lambda x: str(x), missed_num))\n",
        "    print(\"Missing number in above sequence:\")\n",
        "    print(\" \".join(missed_num))\n",
        "    break\n"
      ],
      "execution_count": 20,
      "outputs": [
        {
          "output_type": "stream",
          "text": [
            "Enter the number series to find missing number:\n",
            "1 2 4 5 3 6\n",
            "Sequence given has no missing number!\n",
            "\n",
            "Enter the number series to find missing number:\n",
            "1 2 2 3 5 6 4\n",
            "Given sequence has duplicates!\n",
            "\n",
            "Enter the number series to find missing number:\n",
            "1 2 4 5 6\n",
            "Missing number in above sequence:\n",
            "3\n"
          ],
          "name": "stdout"
        }
      ]
    },
    {
      "cell_type": "markdown",
      "metadata": {
        "id": "x9mnncVdy2Yo",
        "colab_type": "text"
      },
      "source": [
        "### **Question 5** <br>\n",
        "\n",
        "With a given list L, write a program to print this list L after removing all duplicate values with original order reserved. <br><br>\n",
        "Example:<br>\n",
        "If the input list is<br>\n",
        "12 24 35 24 88 120 155 88 120 155<br>\n",
        "Then the output should be<br>\n",
        "12 24 35 88 120 155<br><br>\n",
        "Explanation:<br>\n",
        "Third, seventh and ninth element of the list L has been removed because it was already present.<br><br>\n",
        "Input Format:<br>\n",
        "In one line take the elements of the list L with each element separated by a space.<br>\n",
        "Output Format:<br>\n",
        "Print the elements of the modified list in one line with each element separated by a space.<br><br>\n",
        "Example:<br>\n",
        "Input: 12 24 35 24<br>\n",
        "Output:<br>\n",
        "12 24 35<br>"
      ]
    },
    {
      "cell_type": "code",
      "metadata": {
        "id": "kuN-uNxhsBBp",
        "colab_type": "code",
        "colab": {
          "base_uri": "https://localhost:8080/",
          "height": 238
        },
        "outputId": "336756ca-96d4-4af4-b765-c0e97d4fc66b"
      },
      "source": [
        "while True:\n",
        "  _user = input(\"Enter the number series to remove duplicates:\\n\")\n",
        "  _n = _user.split(\" \")\n",
        "  _nints = list(map(lambda x: int(x), _n))\n",
        "  _norig = []\n",
        "\n",
        "  if len((_nints)) != len((set(_nints))):\n",
        "    for x in _nints:\n",
        "      if x not in _norig:\n",
        "        _norig.append(x)\n",
        "    print(\"Numbers after removing the duplicates:\")\n",
        "    required = list(map(lambda x: str(x), _norig))\n",
        "    print(\" \".join(required))\n",
        "    print()\n",
        "  else:\n",
        "    print(\"Given sequence has no duplicates to remove!\")\n",
        "    break"
      ],
      "execution_count": 23,
      "outputs": [
        {
          "output_type": "stream",
          "text": [
            "Enter the number series to remove duplicates:\n",
            "12 24 35 24 88 120 155 88 120 155\n",
            "Numbers after removing the duplicates:\n",
            "12 24 35 88 120 155\n",
            "\n",
            "Enter the number series to remove duplicates:\n",
            "12 24 35 24\n",
            "Numbers after removing the duplicates:\n",
            "12 24 35\n",
            "\n",
            "Enter the number series to remove duplicates:\n",
            "15 35 40 25 36 74 52\n",
            "Given sequence has no duplicates to remove!\n"
          ],
          "name": "stdout"
        }
      ]
    }
  ]
}